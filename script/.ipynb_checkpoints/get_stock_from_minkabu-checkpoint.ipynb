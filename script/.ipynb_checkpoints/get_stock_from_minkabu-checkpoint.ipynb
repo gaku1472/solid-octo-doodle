{
 "cells": [
  {
   "cell_type": "code",
   "execution_count": 1,
   "id": "d00574d6",
   "metadata": {},
   "outputs": [],
   "source": [
    "import pandas as pd\n",
    "import numpy as np\n",
    "import requests\n",
    "import math\n",
    "from bs4 import BeautifulSoup\n",
    "from datetime import date, datetime\n",
    "from pandas_datareader.stooq import StooqDailyReader"
   ]
  },
  {
   "cell_type": "code",
   "execution_count": null,
   "id": "2c463582",
   "metadata": {},
   "outputs": [],
   "source": []
  },
  {
   "cell_type": "code",
   "execution_count": 2,
   "id": "c9f6e964",
   "metadata": {},
   "outputs": [],
   "source": [
    "data_dir = '../data/'\n",
    "url_minkabu = 'https://minkabu.jp/stock/'\n",
    "get_dates = 3\n",
    "title = ['Date', 'Open', 'High', 'Low', 'Close', 'aClose', 'Volume']"
   ]
  },
  {
   "cell_type": "code",
   "execution_count": null,
   "id": "ffcb7fdc",
   "metadata": {},
   "outputs": [],
   "source": []
  },
  {
   "cell_type": "markdown",
   "id": "79f70078",
   "metadata": {},
   "source": [
    "## 株価取得＆更新スクリプト"
   ]
  },
  {
   "cell_type": "code",
   "execution_count": 3,
   "id": "873d2f78",
   "metadata": {},
   "outputs": [],
   "source": [
    "def get_master_code():\n",
    "    path = data_dir + '/master/get_code.csv'\n",
    "    codemaster_df = pd.read_csv(path)\n",
    "    \n",
    "    return codemaster_df"
   ]
  },
  {
   "cell_type": "code",
   "execution_count": 4,
   "id": "3c7e6881",
   "metadata": {},
   "outputs": [],
   "source": [
    "def get_update_price(url):\n",
    "    # 値の取得\n",
    "    response = requests.get('https://minkabu.jp/stock/9984/daily_bar')\n",
    "    soup = BeautifulSoup(response.text, 'html.parser')\n",
    "\n",
    "    # テーブルを指定\n",
    "    table = soup.findAll('table', {'id' : 'fourvalue_timeline'})[0]\n",
    "    rows = table.findAll('tr')\n",
    "\n",
    "    # trの解析\n",
    "    trs = table.find_all('tr')\n",
    "    tr = trs[0]\n",
    "\n",
    "    # ボディの解析\n",
    "    matrix = []\n",
    "    for tr in trs[1:]:\n",
    "        r = []\n",
    "        for td in tr.find_all('td'):\n",
    "            r.append(td.text)\n",
    "        matrix.append(r)\n",
    "        \n",
    "    df = pd.DataFrame(data=matrix, columns=title)\n",
    "    \n",
    "    return df"
   ]
  },
  {
   "cell_type": "code",
   "execution_count": 55,
   "id": "3d5b00c4",
   "metadata": {},
   "outputs": [],
   "source": [
    "def update_price(code, df_price):\n",
    "    # 日時をdatetimeに変換\n",
    "    df_price['Date'] = pd.to_datetime(df_price['Date'], format='%Y-%m-%d')\n",
    "    df_price = df_price.replace('(,|\\.)', r'', regex=True)\n",
    "    df_price[['Open', 'High', 'Low', 'Close', 'aClose']] = df_price[['Open', 'High', 'Low', 'Close', 'aClose']].astype('int') / 10\n",
    "    \n",
    "    # 元データを整形\n",
    "    data = pd.read_csv(data_dir + str(code) + '/data.csv', encoding = 'utf8', parse_dates=['Date'])\n",
    "    data = data.sort_values('Date')\n",
    "    data = data.reset_index(drop=True)\n",
    "    \n",
    "    # 指定日の最新データを投入\n",
    "    data = data.append(df_price.iloc[0:get_dates,:], ignore_index=True)\n",
    "    \n",
    "    # 型変換＆重複削除\n",
    "    data = data.astype({'Open' : 'int', 'High' : 'int', 'Low' : 'int', 'Close' : 'int', 'aClose' : 'int', 'Volume' : 'int'})\n",
    "    data = data.drop_duplicates(subset=['Date'])\n",
    "    \n",
    "    # CSVファイルに出力\n",
    "    data.to_csv(data_dir + str(code) + '/data.csv', index = False)\n",
    "    \n",
    "    return data"
   ]
  },
  {
   "cell_type": "code",
   "execution_count": null,
   "id": "d8a9e878",
   "metadata": {},
   "outputs": [],
   "source": []
  },
  {
   "cell_type": "code",
   "execution_count": 84,
   "id": "2422c478",
   "metadata": {},
   "outputs": [],
   "source": [
    "def calc_backtest(data, code):\n",
    "    print('---------------------------------------------')\n",
    "    print(\"Stock Code : \" + str(code))\n",
    "    \n",
    "    data = data.sort_values('Date')\n",
    "    # Sharpe Ratio\n",
    "    sr = get_shaperatio(data[-256:-1])\n",
    "    print('Sharpe Ratio : ' + str(sr))\n",
    "    \n",
    "    # HHI\n",
    "    ret = data[\"Close\"].pct_change()\n",
    "    hhiPos = get_hhi(ret[ret >= 0])\n",
    "    hhiNeg = get_hhi(ret[ret < 0])\n",
    "    print('hhiPos : ' + str(hhiPos))\n",
    "    print('hhiNeg : ' + str(hhiNeg))\n",
    "    \n",
    "    # updateMax and Min\n",
    "    updateMax, updateMin = get_updateMax_and_Min(data)\n",
    "    print('updateMax : ' + str(updateMax))\n",
    "    print('updateMin : ' + str(updateMin))\n",
    "    \n",
    "    # updateMax and Min All Past\n",
    "    updateMaxAll, updateMinAll = get_updateMax_and_Min_All(data)\n",
    "    print('updateMaxAllPast : ' + str(updateMaxAll))\n",
    "    print('updateMinAllPast : ' + str(updateMinAll))\n",
    "    \n",
    "    # get_n225_corr\n",
    "    corr = get_n225_corr(data)\n",
    "    print('n225_corr : ' + str(corr))\n",
    "    \n",
    "    # The day before ratio\n",
    "    compare_price, compare_percentage = get_lastRatio(data)\n",
    "    print('前日との終値差異 ： ' + str(compare_price))\n",
    "    print('前日との終値比率差異 ： ' + str(compare_percentage))\n",
    "    \n",
    "    print('---------------------------------------------')"
   ]
  },
  {
   "cell_type": "code",
   "execution_count": null,
   "id": "097281ba",
   "metadata": {},
   "outputs": [],
   "source": []
  },
  {
   "cell_type": "markdown",
   "id": "e9e4cfad",
   "metadata": {},
   "source": [
    "## バックテスト用メソッド"
   ]
  },
  {
   "cell_type": "code",
   "execution_count": 85,
   "id": "3e6541d2",
   "metadata": {},
   "outputs": [],
   "source": [
    "def get_shaperatio(data):\n",
    "    df = data.copy()\n",
    "    \n",
    "    df[\"daily_ret\"] = data[\"Close\"].pct_change() #株価終値の前日との変化率を計算する。\n",
    "    ret_ave = np.mean(df[\"daily_ret\"])\n",
    "    vol_sp = df[\"daily_ret\"].std()\n",
    "    \n",
    "    return  math.sqrt(256) * ret_ave / vol_sp"
   ]
  },
  {
   "cell_type": "code",
   "execution_count": 86,
   "id": "c4efb2d3",
   "metadata": {},
   "outputs": [],
   "source": [
    "def get_hhi(ret):\n",
    "    if ret.shape[0] <= 2: return np.nan\n",
    "    wght = ret / ret.sum()\n",
    "    hhi = (wght**2).sum()\n",
    "    hhi = (hhi - ret.shape[0] ** -1) / (1. - ret.shape[0]**-1)\n",
    "\n",
    "    return hhi"
   ]
  },
  {
   "cell_type": "code",
   "execution_count": null,
   "id": "9d1e255d",
   "metadata": {},
   "outputs": [],
   "source": [
    "def get_n225_corr(data):\n",
    "    #株価取得範囲を設定\n",
    "    start = data.iloc[-2, 0]\n",
    "    end = data.iloc[-1, 0]\n",
    "    stock = '^NKX'\n",
    "\n",
    "    # 元データを整形\n",
    "    df_master = pd.read_csv(data_dir + 'n225/data.csv', encoding = 'utf8', parse_dates=['Date'])\n",
    "    df_master = df_master.sort_values('Date')\n",
    "    df_master = df_master.reset_index(drop=True)\n",
    "\n",
    "    #株価取得\n",
    "    df_update = StooqDailyReader(stock, start=start, end=end)\n",
    "    df_update = df_update.read().reset_index().sort_values('Date').reset_index(drop=True)\n",
    "\n",
    "    # 指定日の最新データを投入\n",
    "    df_master = df_master.append(df_update.iloc[0:get_dates,:], ignore_index=True)\n",
    "    \n",
    "    # 型変換＆重複削除\n",
    "    df_master = df_master.astype({'Open' : 'int', 'High' : 'int', 'Low' : 'int', 'Close' : 'int'})\n",
    "    df_master = df_master.drop_duplicates(subset=['Date'])\n",
    "    df_master.to_csv(data_dir + 'n225/data.csv', index=False)\n",
    "    \n",
    "    # 相関係数の計算\n",
    "    _df = pd.DataFrame()\n",
    "    _df[\"Stock\"] = data.Close\n",
    "    _df[\"N225\"] = df_master.Close\n",
    "\n",
    "    # 不要データ削除して相関係数を計算\n",
    "    corr = _df.dropna().corr(method='pearson')['Stock']['N225']\n",
    "    \n",
    "    return corr"
   ]
  },
  {
   "cell_type": "code",
   "execution_count": null,
   "id": "465fd54d",
   "metadata": {},
   "outputs": [],
   "source": []
  },
  {
   "cell_type": "markdown",
   "id": "fff419c9",
   "metadata": {},
   "source": [
    "## 株価監視メソッド"
   ]
  },
  {
   "cell_type": "code",
   "execution_count": 87,
   "id": "bfff784e",
   "metadata": {},
   "outputs": [],
   "source": [
    "def get_updateMax_and_Min(data):\n",
    "    updateMax = False\n",
    "    updateMin = False\n",
    "    thisMonth = data.iloc[-1, 0].month\n",
    "    if not thisMonth in [1,2,3]:\n",
    "        # 昨年来高値・安値\n",
    "        startDate = date(data.iloc[-1, 0].year - 1, 1, 1).isoformat()\n",
    "        endDate = date(data.iloc[-1, 0].year - 1, 12, 31).isoformat()\n",
    "\n",
    "    else:\n",
    "        # 年初来高値・安値\n",
    "        startDate = date(data.iloc[-1, 0].year, 1, 1).isoformat()\n",
    "        endDate = date(data.iloc[-1, 0].year, 12, 31).isoformat()\n",
    "\n",
    "    _df = data[(data['Date'] >= startDate) & (data['Date'] <= endDate)]\n",
    "\n",
    "    pastMax = _df['Close'].max()\n",
    "    pastMin = _df['Close'].min()\n",
    "    thisClose = data.iloc[-1, 4]\n",
    "    if pastMax < thisClose:\n",
    "        updateMax = True\n",
    "    if pastMin > thisClose:\n",
    "        updateMin = True\n",
    "    \n",
    "    return updateMax, updateMin"
   ]
  },
  {
   "cell_type": "code",
   "execution_count": 88,
   "id": "c357b97b",
   "metadata": {},
   "outputs": [],
   "source": [
    "def get_updateMax_and_Min_All(data):\n",
    "    updateMax = False\n",
    "    updateMin = False\n",
    "\n",
    "    pastMax = data['Close'].max()\n",
    "    pastMin = data['Close'].min()\n",
    "    thisClose = data.iloc[-1, 4]\n",
    "    if pastMax < thisClose:\n",
    "        updateMax = True\n",
    "    if pastMin > thisClose:\n",
    "        updateMin = True\n",
    "    \n",
    "    return updateMax, updateMin"
   ]
  },
  {
   "cell_type": "code",
   "execution_count": 89,
   "id": "523f4187",
   "metadata": {},
   "outputs": [],
   "source": [
    "def get_lastRatio(data):\n",
    "    thisClose = data.iloc[-1, 4]\n",
    "    lastClose = data.iloc[-2, 4]\n",
    "    compare_price = (thisClose - lastClose)\n",
    "    compare_percentage = (thisClose / lastClose)\n",
    "\n",
    "    return compare_price, compare_percentage"
   ]
  },
  {
   "cell_type": "code",
   "execution_count": 90,
   "id": "5d35f8ca",
   "metadata": {},
   "outputs": [],
   "source": []
  },
  {
   "cell_type": "code",
   "execution_count": null,
   "id": "bd8ca7c9",
   "metadata": {},
   "outputs": [],
   "source": []
  },
  {
   "cell_type": "code",
   "execution_count": null,
   "id": "a3d91c53",
   "metadata": {},
   "outputs": [],
   "source": []
  },
  {
   "cell_type": "code",
   "execution_count": 91,
   "id": "d8c632ca",
   "metadata": {},
   "outputs": [
    {
     "name": "stdout",
     "output_type": "stream",
     "text": [
      "---------------------------------------------\n",
      "Stock Code : 9984\n",
      "Sharpe Ratio : -0.376943403468255\n",
      "hhiPos : 0.005089920706469432\n",
      "hhiNeg : 0.0040816075190960735\n",
      "updateMax : False\n",
      "updateMin : False\n",
      "updateMaxAllPast : False\n",
      "updateMinAllPast : False\n",
      "n225_corr : 0.7732173873104088\n",
      "前日との終値差異 ： -33\n",
      "前日との終値比率差異 ： 0.9940551252026661\n",
      "---------------------------------------------\n"
     ]
    }
   ],
   "source": [
    "## main\n",
    "codemaster_df = get_master_code()\n",
    "for idx, row in codemaster_df.iterrows():\n",
    "    df_price = get_update_price(row['time_url'])\n",
    "    data = update_price(row[\"code\"], df_price)\n",
    "    calc_backtest(data, row[\"code\"])"
   ]
  },
  {
   "cell_type": "code",
   "execution_count": null,
   "id": "cf848841",
   "metadata": {},
   "outputs": [],
   "source": []
  },
  {
   "cell_type": "code",
   "execution_count": null,
   "id": "5c746281",
   "metadata": {},
   "outputs": [],
   "source": []
  },
  {
   "cell_type": "code",
   "execution_count": null,
   "id": "24b7e882",
   "metadata": {},
   "outputs": [],
   "source": []
  },
  {
   "cell_type": "code",
   "execution_count": 245,
   "id": "e9240169",
   "metadata": {},
   "outputs": [],
   "source": []
  },
  {
   "cell_type": "code",
   "execution_count": 53,
   "id": "fe474c9c",
   "metadata": {},
   "outputs": [
    {
     "data": {
      "text/plain": [
       "10635"
      ]
     },
     "execution_count": 53,
     "metadata": {},
     "output_type": "execute_result"
    }
   ],
   "source": [
    "data.iloc[:, 4].max()"
   ]
  },
  {
   "cell_type": "code",
   "execution_count": 246,
   "id": "54ce6d92",
   "metadata": {},
   "outputs": [],
   "source": []
  },
  {
   "cell_type": "code",
   "execution_count": 252,
   "id": "dc8ebcec",
   "metadata": {},
   "outputs": [],
   "source": []
  },
  {
   "cell_type": "code",
   "execution_count": null,
   "id": "77b97dbb",
   "metadata": {},
   "outputs": [],
   "source": []
  }
 ],
 "metadata": {
  "kernelspec": {
   "display_name": "py37",
   "language": "python",
   "name": "py37"
  },
  "language_info": {
   "codemirror_mode": {
    "name": "ipython",
    "version": 3
   },
   "file_extension": ".py",
   "mimetype": "text/x-python",
   "name": "python",
   "nbconvert_exporter": "python",
   "pygments_lexer": "ipython3",
   "version": "3.7.10"
  }
 },
 "nbformat": 4,
 "nbformat_minor": 5
}
