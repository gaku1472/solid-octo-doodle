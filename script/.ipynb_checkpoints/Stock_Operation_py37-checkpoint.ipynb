{
 "cells": [
  {
   "cell_type": "code",
   "execution_count": 1,
   "id": "87037c8e",
   "metadata": {},
   "outputs": [],
   "source": [
    "import pandas as pd\n",
    "import datetime as dt\n",
    "import pandas_datareader.data as web\n",
    "import yfinance as yf\n",
    "import numpy as np\n",
    "import lightgbm as lgb\n",
    "import shap\n",
    "import warnings\n",
    "import matplotlib.pyplot as plt\n",
    "import numpy as np\n",
    "import datetime\n",
    "plt.style.use('seaborn')\n",
    "from lightgbm import LGBMRegressor\n",
    "from tqdm import tqdm\n",
    "from yahooquery import Ticker\n",
    "from timeseriescv import cross_validation as cv\n",
    "from sklearn.model_selection import train_test_split\n",
    "from sklearn.metrics import mean_absolute_error\n",
    "from scipy import stats as scipy_stats"
   ]
  },
  {
   "cell_type": "code",
   "execution_count": 17,
   "id": "db554ca0",
   "metadata": {},
   "outputs": [],
   "source": [
    "warnings.simplefilter('ignore')"
   ]
  },
  {
   "cell_type": "code",
   "execution_count": 3,
   "id": "acad2b05",
   "metadata": {},
   "outputs": [],
   "source": [
    "ETF_CODE = ['DIA','SPY','QQQ','IBB','XLV','IWM','EEM','EFA','XLP','XLY','ITB','XLU','XLF',\n",
    "            'VGT','VT','FDN','IWO','IWN','IYF','XLK','XOP','USMV','BAB','GLD',\n",
    "            'VNQ','SCHH','IYR','XLRE','AGG','BND','LQD','VCSH','VCIT','JNK']"
   ]
  },
  {
   "cell_type": "code",
   "execution_count": 4,
   "id": "62bd2455",
   "metadata": {},
   "outputs": [],
   "source": [
    "def get_startday():\n",
    "    today = dt.date.today() \n",
    "    oneday = dt.timedelta(days=3) \n",
    "    startday = today - oneday\n",
    "    startday = startday.strftime('%Y-%m-%d')    \n",
    "    return startday"
   ]
  },
  {
   "cell_type": "code",
   "execution_count": 5,
   "id": "6d640293",
   "metadata": {},
   "outputs": [],
   "source": [
    "def get_stock_price(startday=None):\n",
    "    etf_dict = {}\n",
    "    for code in ETF_CODE:\n",
    "        ticker = Ticker(code)\n",
    "        # tsd = ticker.history(period='5y', interval='1d', start=startday, end=None)\n",
    "        tsd = ticker.history(period='7y', interval='1d', start=\"2015-01-01\", end=None)\n",
    "        tsd[\"code\"] = code\n",
    "        etf_dict[code] = tsd.reset_index()\n",
    "    \n",
    "    return etf_dict"
   ]
  },
  {
   "cell_type": "code",
   "execution_count": 9,
   "id": "b3f77045",
   "metadata": {},
   "outputs": [],
   "source": [
    "def preprocess_technical(_df):\n",
    "        # 期間の型変更\n",
    "        _df[\"date\"] = pd.to_datetime(_df[\"date\"])\n",
    "\n",
    "        # ターゲット\n",
    "        _df[\"target\"] = _df[\"close\"].pct_change(-20)\n",
    "        # _df[\"target_40\"] = _df[\"close\"].pct_change(-40)\n",
    "        # _df[\"target_60\"] = _df[\"close\"].pct_change(-60)\n",
    "\n",
    "        # 騰落率\n",
    "        _df[\"ror_1\"] = _df[\"close\"].pct_change(1)\n",
    "        _df[\"ror_5\"] = _df[\"close\"].pct_change(5)\n",
    "        _df[\"ror_10\"] = _df[\"close\"].pct_change(10)\n",
    "        _df[\"ror_20\"] = _df[\"close\"].pct_change(20)\n",
    "        _df[\"ror_40\"] = _df[\"close\"].pct_change(40)\n",
    "        _df[\"ror_60\"] = _df[\"close\"].pct_change(60)\n",
    "        _df[\"ror_100\"] = _df[\"close\"].pct_change(100)\n",
    "\n",
    "        # ボラティリティ\n",
    "        _df[\"vola_1\"] = _df[\"ror_1\"].std()\n",
    "        _df[\"vola_5\"] = _df[\"ror_1\"].rolling(5).std()\n",
    "        _df[\"vola_10\"] = _df[\"ror_1\"].rolling(10).std()\n",
    "        _df[\"vola_20\"] = _df[\"ror_1\"].rolling(20).std()\n",
    "        _df[\"vola_40\"] = _df[\"ror_1\"].rolling(40).std()\n",
    "        _df[\"vola_60\"] = _df[\"ror_1\"].rolling(60).std()\n",
    "        _df[\"vola_100\"] = _df[\"ror_1\"].rolling(100).std()\n",
    "\n",
    "        # 売買代金\n",
    "        _df[\"volume\"] = _df[\"close\"] * _df[\"volume\"]\n",
    "        _df = _df.replace([np.inf, -np.inf], np.nan)\n",
    "\n",
    "        _df[\"vol_1\"] = _df[\"volume\"]\n",
    "        _df[\"vol_5\"] = _df[\"volume\"].rolling(5).mean()\n",
    "        _df[\"vol_10\"] = _df[\"volume\"].rolling(10).mean()\n",
    "        _df[\"vol_20\"] = _df[\"volume\"].rolling(20).mean()\n",
    "        _df[\"vol_40\"] = _df[\"volume\"].rolling(40).mean()\n",
    "        _df[\"vol_60\"] = _df[\"volume\"].rolling(60).mean()\n",
    "        _df[\"vol_100\"] = _df[\"volume\"].rolling(100).mean()\n",
    "        _df[\"d_vol\"] = _df[\"volume\"] / _df[\"vol_20\"]\n",
    "\n",
    "        # レンジ\n",
    "        _df[\"prev_close\"] = _df[\"close\"].shift()\n",
    "        _df = _df.replace([np.inf, -np.inf], np.nan)\n",
    "        _df[\"range\"] = (_df[[\"prev_close\", \"high\"]].max(axis=1) - _df[[\"prev_close\", \"low\"]].min(axis=1)) / _df[\"prev_close\"]\n",
    "        _df = _df.replace([np.inf, -np.inf], np.nan)\n",
    "\n",
    "        _df[\"atr_1\"] = _df[\"range\"]\n",
    "        _df[\"atr_5\"] = _df[\"range\"].rolling(5).mean()\n",
    "        _df[\"atr_10\"] = _df[\"range\"].rolling(10).mean()\n",
    "        _df[\"atr_20\"] = _df[\"range\"].rolling(20).mean()\n",
    "        _df[\"atr_40\"] = _df[\"range\"].rolling(40).mean()\n",
    "        _df[\"atr_60\"] = _df[\"range\"].rolling(60).mean()\n",
    "        _df[\"atr_100\"] = _df[\"range\"].rolling(100).mean()\n",
    "        _df[\"d_atr\"] = _df[\"range\"]/_df[\"atr_20\"]\n",
    "\n",
    "        # ギャップレンジ\n",
    "        _df[\"gap_range\"] = (np.abs(_df[\"open\"] - _df[\"prev_close\"])) / _df[\"prev_close\"]\n",
    "        _df[\"g_atr_1\"] = _df[\"gap_range\"]\n",
    "        _df[\"g_atr_5\"] = _df[\"gap_range\"].rolling(5).mean()\n",
    "        _df[\"g_atr_10\"] = _df[\"gap_range\"].rolling(10).mean()\n",
    "        _df[\"g_atr_20\"] = _df[\"gap_range\"].rolling(20).mean()\n",
    "        _df[\"g_atr_40\"] = _df[\"gap_range\"].rolling(40).mean()\n",
    "        _df[\"g_atr_60\"] = _df[\"gap_range\"].rolling(60).mean()\n",
    "        _df[\"g_atr_100\"] = _df[\"gap_range\"].rolling(100).mean()\n",
    "\n",
    "        # デイレンジ\n",
    "        _df[\"day_range\"] = (_df[\"high\"] - _df[\"low\"]) / _df[\"prev_close\"]\n",
    "        _df[\"d_atr_1\"] = _df[\"day_range\"]\n",
    "        _df[\"d_atr_5\"] = _df[\"day_range\"].rolling(5).mean()\n",
    "        _df[\"d_atr_10\"] = _df[\"day_range\"].rolling(10).mean()\n",
    "        _df[\"d_atr_20\"] = _df[\"day_range\"].rolling(20).mean()\n",
    "        _df[\"d_atr_40\"] = _df[\"day_range\"].rolling(40).mean()\n",
    "        _df[\"d_atr_60\"] = _df[\"day_range\"].rolling(60).mean()\n",
    "        _df[\"d_atr_100\"] = _df[\"day_range\"].rolling(100).mean()\n",
    "\n",
    "        # ヒゲレンジ\n",
    "        _df[\"hig_range\"] = ((_df[\"high\"] - _df[\"low\"]) - np.abs(_df[\"open\"] - _df[\"close\"])) / _df[\"prev_close\"]\n",
    "        _df[\"h_atr_1\"] = _df[\"hig_range\"]\n",
    "        _df[\"h_atr_5\"] = _df[\"hig_range\"].rolling(5).mean()\n",
    "        _df[\"h_atr_10\"] = _df[\"hig_range\"].rolling(10).mean()\n",
    "        _df[\"h_atr_20\"] = _df[\"hig_range\"].rolling(20).mean()\n",
    "        _df[\"h_atr_40\"] = _df[\"hig_range\"].rolling(40).mean()\n",
    "        _df[\"h_atr_60\"] = _df[\"hig_range\"].rolling(60).mean()\n",
    "        _df[\"h_atr_100\"] = _df[\"hig_range\"].rolling(100).mean()\n",
    "\n",
    "        # HLバンド\n",
    "        _df[\"hl_5\"] = _df[\"high\"].rolling(5).max() - _df[\"low\"].rolling(5).min()\n",
    "        _df[\"hl_10\"] = _df[\"high\"].rolling(10).max() - _df[\"low\"].rolling(10).min()\n",
    "        _df[\"hl_20\"] = _df[\"high\"].rolling(20).max() - _df[\"low\"].rolling(20).min()\n",
    "        _df[\"hl_40\"] = _df[\"high\"].rolling(40).max() - _df[\"low\"].rolling(40).min()\n",
    "        _df[\"hl_60\"] = _df[\"high\"].rolling(60).max() - _df[\"low\"].rolling(60).min()\n",
    "        _df[\"hl_100\"] = _df[\"high\"].rolling(100).max() - _df[\"low\"].rolling(100).min()\n",
    "\n",
    "        # マーケットインパクト\n",
    "        _df[\"mi\"] = _df[\"range\"] / (_df[\"volume\"] * _df[\"close\"])\n",
    "        _df = _df.replace([np.inf, -np.inf], np.nan)\n",
    "\n",
    "        _df[\"mi_5\"] = _df[\"mi\"].rolling(5).mean()\n",
    "        _df[\"mi_10\"] = _df[\"mi\"].rolling(10).mean()\n",
    "        _df[\"mi_20\"] = _df[\"mi\"].rolling(20).mean()\n",
    "        _df[\"mi_40\"] = _df[\"mi\"].rolling(40).mean()\n",
    "        _df[\"mi_60\"] = _df[\"mi\"].rolling(60).mean()\n",
    "        _df[\"mi_100\"] = _df[\"mi\"].rolling(100).mean()\n",
    "\n",
    "        feat = [\"date\", \"code\", \"close\", \n",
    "                \"ror_1\", \"ror_5\", \"ror_10\", \"ror_20\", \"ror_40\", \"ror_60\", \"ror_100\",\n",
    "                \"vol_1\", \"vol_5\", \"vol_10\", \"vol_20\", \"vol_40\", \"vol_60\", \"vol_100\", \"d_vol\",\n",
    "                \"atr_1\", \"atr_5\", \"atr_10\", \"atr_20\", \"atr_40\", \"atr_60\", \"atr_100\", \"d_atr\",\n",
    "                \"g_atr_1\", \"g_atr_5\", \"g_atr_10\", \"g_atr_20\", \"g_atr_40\", \"g_atr_60\", \"g_atr_100\",\n",
    "                \"d_atr_1\", \"d_atr_5\", \"d_atr_10\", \"d_atr_20\", \"d_atr_40\", \"d_atr_60\", \"d_atr_100\",\n",
    "                \"h_atr_1\", \"h_atr_5\", \"h_atr_10\", \"h_atr_20\", \"h_atr_40\", \"h_atr_60\", \"h_atr_100\",\n",
    "                \"vola_1\", \"vola_5\", \"vola_10\", \"vola_20\", \"vola_40\", \"vola_60\", \"vola_100\",\n",
    "                \"hl_5\", \"hl_10\", \"hl_20\", \"hl_40\", \"hl_60\", \"hl_100\",\n",
    "                \"mi_5\", \"mi_10\", \"mi_20\", \"mi_40\", \"mi_60\", \"mi_100\",\n",
    "                \"target\",]\n",
    "\n",
    "        _df = _df[feat]\n",
    "        _df = _df.set_index([\"date\"])\n",
    "\n",
    "        return _df"
   ]
  },
  {
   "cell_type": "code",
   "execution_count": 7,
   "id": "8433fc67",
   "metadata": {},
   "outputs": [],
   "source": [
    "etf_dict = get_stock_price()"
   ]
  },
  {
   "cell_type": "code",
   "execution_count": 8,
   "id": "cd2e7dcc",
   "metadata": {},
   "outputs": [],
   "source": [
    "df = pd.DataFrame()\n",
    "for code in ETF_CODE:\n",
    "    _df = preprocess_technical(etf_dict[code])\n",
    "    df = pd.concat([df, _df])"
   ]
  },
  {
   "cell_type": "code",
   "execution_count": 9,
   "id": "24cfa415",
   "metadata": {},
   "outputs": [],
   "source": [
    "data = df[df[\"target\"] == df[\"target\"]]\n",
    "future = df[df[\"target\"] != df[\"target\"]]"
   ]
  },
  {
   "cell_type": "code",
   "execution_count": 10,
   "id": "0b7c153c",
   "metadata": {},
   "outputs": [],
   "source": [
    "params = {\"objective\" : \"regression\",\n",
    "          \"metric\" : \"rmse\",\n",
    "          \"n_estimators\" : 5000,\n",
    "          \"num_leaves\" : 120, #previously 240, originally 60\n",
    "          \"max_depth\": -1,\n",
    "          \"learning_rate\" : 0.0005,\n",
    "          \"max_bin\" : 200, #new\n",
    "          \"bagging_fraction\" : 0.2,  # subsample\n",
    "          \"feature_fraction\" : 0.8,  # colsample_bytree\n",
    "          \"bagging_freq\" : 10,        # subsample_freq\n",
    "          \"bagging_seed\" : 23,\n",
    "          \"verbosity\" : -1 }"
   ]
  },
  {
   "cell_type": "code",
   "execution_count": 11,
   "id": "217f34cc",
   "metadata": {},
   "outputs": [],
   "source": [
    "ev_folds = ([\"2020-01-01\", \"2020-02-28\"], [\"2020-03-01\", \"2020-04-30\"],\n",
    "            [\"2020-05-01\", \"2020-06-30\"], [\"2020-07-01\", \"2020-08-31\"],\n",
    "            [\"2020-09-01\", \"2020-10-31\"], [\"2020-11-01\", \"2020-12-31\"])"
   ]
  },
  {
   "cell_type": "code",
   "execution_count": 12,
   "id": "87a8d737",
   "metadata": {},
   "outputs": [],
   "source": [
    "def make_train_data(df):\n",
    "    X = df.drop([\"target\"], axis=1)\n",
    "    y = df[\"target\"]\n",
    "    \n",
    "    return X, y"
   ]
  },
  {
   "cell_type": "code",
   "execution_count": 13,
   "id": "c5b76139",
   "metadata": {},
   "outputs": [],
   "source": [
    "TRAIN_END = \"2019-12-31\"\n",
    "EVAL_START = \"2020-01-01\"\n",
    "EVAL_END = \"2020-12-31\"\n",
    "TEST_START = \"2021-01-01\"\n",
    "tr = data[data.index <= TRAIN_END]\n",
    "ev = data[(data.index >= EVAL_START) &~ (data.index >= EVAL_END)]\n",
    "te = data[data.index >= TEST_START]"
   ]
  },
  {
   "cell_type": "code",
   "execution_count": 14,
   "id": "3f7761ee",
   "metadata": {},
   "outputs": [
    {
     "name": "stdout",
     "output_type": "stream",
     "text": [
      "0.2422134921007903\n",
      "0.13407868486294197\n",
      "0.06365192696137531\n",
      "0.047510719584205385\n",
      "0.04995788619572286\n",
      "0.04896134770327943\n",
      "Mean RMSE : 0.09772900956805254\n"
     ]
    }
   ],
   "source": [
    "X_tr, y_tr = make_train_data(tr)\n",
    "sum_score = 0\n",
    "for idx, fold in enumerate(ev_folds):\n",
    "    k_ev = ev[(ev.index >= fold[0]) &~ (ev.index >= fold[1])]\n",
    "    X_ev, y_ev = make_train_data(k_ev)\n",
    "    \n",
    "    lgtrain, lgval = lgb.Dataset(X_tr.drop([\"code\"], axis=1), y_tr), lgb.Dataset(X_ev.drop([\"code\"], axis=1), y_ev)\n",
    "    model = lgb.train(params, lgtrain, valid_sets=[lgval], early_stopping_rounds=100, verbose_eval=False)\n",
    "    \n",
    "    score = model.best_score[\"valid_0\"][\"rmse\"]\n",
    "    print(score)\n",
    "\n",
    "    sum_score += score\n",
    "\n",
    "mrmse = (sum_score / 6)\n",
    "print(\"Mean RMSE : \" + str(mrmse) )"
   ]
  },
  {
   "cell_type": "code",
   "execution_count": null,
   "id": "831a7095",
   "metadata": {},
   "outputs": [],
   "source": []
  },
  {
   "cell_type": "code",
   "execution_count": null,
   "id": "b74c7d40",
   "metadata": {},
   "outputs": [],
   "source": []
  },
  {
   "cell_type": "code",
   "execution_count": 15,
   "id": "e4ef402f",
   "metadata": {},
   "outputs": [],
   "source": [
    "X_ev, y_ev = make_train_data(ev)"
   ]
  },
  {
   "cell_type": "code",
   "execution_count": 16,
   "id": "507bc5e1",
   "metadata": {},
   "outputs": [
    {
     "name": "stdout",
     "output_type": "stream",
     "text": [
      "Training until validation scores don't improve for 100 rounds\n",
      "Early stopping, best iteration is:\n",
      "[860]\tvalid_0's rmse: 0.11982\n"
     ]
    }
   ],
   "source": [
    "clf = LGBMRegressor(**params)\n",
    "model = clf.fit(X=X_tr.drop([\"code\"], axis=1), y=y_tr, \n",
    "                eval_set=(X_ev.drop([\"code\"], axis=1), y_ev), \n",
    "                verbose=1000, early_stopping_rounds=100)"
   ]
  },
  {
   "cell_type": "code",
   "execution_count": 17,
   "id": "87c46a19",
   "metadata": {},
   "outputs": [
    {
     "data": {
      "text/plain": [
       "<AxesSubplot:title={'center':'Feature importance'}, xlabel='Feature importance', ylabel='Features'>"
      ]
     },
     "execution_count": 17,
     "metadata": {},
     "output_type": "execute_result"
    },
    {
     "data": {
      "image/png": "[encoded data removed]",
      "text/plain": [
       "<Figure size 360x720 with 1 Axes>"
      ]
     },
     "metadata": {},
     "output_type": "display_data"
    }
   ],
   "source": [
    "lgb.plot_importance(model, importance_type='gain', height=1, \n",
    "                    max_num_features=30,figsize=(5,10))"
   ]
  },
  {
   "cell_type": "code",
   "execution_count": 18,
   "id": "eef6b346",
   "metadata": {},
   "outputs": [
    {
     "data": {
      "text/html": [
       "\n",
       "    <style>\n",
       "    table.eli5-weights tr:hover {\n",
       "        filter: brightness(85%);\n",
       "    }\n",
       "</style>\n",
       "\n",
       "\n",
       "\n",
       "    \n",
       "\n",
       "    \n",
       "\n",
       "    \n",
       "\n",
       "    \n",
       "\n",
       "    \n",
       "\n",
       "    \n",
       "\n",
       "\n",
       "    \n",
       "\n",
       "    \n",
       "\n",
       "    \n",
       "\n",
       "    \n",
       "\n",
       "    \n",
       "\n",
       "    \n",
       "\n",
       "\n",
       "    \n",
       "\n",
       "    \n",
       "\n",
       "    \n",
       "\n",
       "    \n",
       "\n",
       "    \n",
       "        <table class=\"eli5-weights eli5-feature-importances\" style=\"border-collapse: collapse; border: none; margin-top: 0em; table-layout: auto;\">\n",
       "    <thead>\n",
       "    <tr style=\"border: none;\">\n",
       "        <th style=\"padding: 0 1em 0 0.5em; text-align: right; border: none;\">Weight</th>\n",
       "        <th style=\"padding: 0 0.5em 0 0.5em; text-align: left; border: none;\">Feature</th>\n",
       "    </tr>\n",
       "    </thead>\n",
       "    <tbody>\n",
       "    \n",
       "        <tr style=\"background-color: hsl(120, 100.00%, 80.00%); border: none;\">\n",
       "            <td style=\"padding: 0 1em 0 0.5em; text-align: right; border: none;\">\n",
       "                0.0113\n",
       "                \n",
       "                    &plusmn; 0.0004\n",
       "                \n",
       "            </td>\n",
       "            <td style=\"padding: 0 0.5em 0 0.5em; text-align: left; border: none;\">\n",
       "                g_atr_40\n",
       "            </td>\n",
       "        </tr>\n",
       "    \n",
       "        <tr style=\"background-color: hsl(120, 100.00%, 87.14%); border: none;\">\n",
       "            <td style=\"padding: 0 1em 0 0.5em; text-align: right; border: none;\">\n",
       "                0.0060\n",
       "                \n",
       "                    &plusmn; 0.0002\n",
       "                \n",
       "            </td>\n",
       "            <td style=\"padding: 0 0.5em 0 0.5em; text-align: left; border: none;\">\n",
       "                ror_60\n",
       "            </td>\n",
       "        </tr>\n",
       "    \n",
       "        <tr style=\"background-color: hsl(120, 100.00%, 91.11%); border: none;\">\n",
       "            <td style=\"padding: 0 1em 0 0.5em; text-align: right; border: none;\">\n",
       "                0.0035\n",
       "                \n",
       "                    &plusmn; 0.0004\n",
       "                \n",
       "            </td>\n",
       "            <td style=\"padding: 0 0.5em 0 0.5em; text-align: left; border: none;\">\n",
       "                g_atr_60\n",
       "            </td>\n",
       "        </tr>\n",
       "    \n",
       "        <tr style=\"background-color: hsl(120, 100.00%, 92.27%); border: none;\">\n",
       "            <td style=\"padding: 0 1em 0 0.5em; text-align: right; border: none;\">\n",
       "                0.0029\n",
       "                \n",
       "                    &plusmn; 0.0003\n",
       "                \n",
       "            </td>\n",
       "            <td style=\"padding: 0 0.5em 0 0.5em; text-align: left; border: none;\">\n",
       "                mi_40\n",
       "            </td>\n",
       "        </tr>\n",
       "    \n",
       "        <tr style=\"background-color: hsl(120, 100.00%, 92.83%); border: none;\">\n",
       "            <td style=\"padding: 0 1em 0 0.5em; text-align: right; border: none;\">\n",
       "                0.0026\n",
       "                \n",
       "                    &plusmn; 0.0005\n",
       "                \n",
       "            </td>\n",
       "            <td style=\"padding: 0 0.5em 0 0.5em; text-align: left; border: none;\">\n",
       "                h_atr_60\n",
       "            </td>\n",
       "        </tr>\n",
       "    \n",
       "        <tr style=\"background-color: hsl(120, 100.00%, 94.24%); border: none;\">\n",
       "            <td style=\"padding: 0 1em 0 0.5em; text-align: right; border: none;\">\n",
       "                0.0019\n",
       "                \n",
       "                    &plusmn; 0.0003\n",
       "                \n",
       "            </td>\n",
       "            <td style=\"padding: 0 0.5em 0 0.5em; text-align: left; border: none;\">\n",
       "                vola_1\n",
       "            </td>\n",
       "        </tr>\n",
       "    \n",
       "        <tr style=\"background-color: hsl(120, 100.00%, 94.62%); border: none;\">\n",
       "            <td style=\"padding: 0 1em 0 0.5em; text-align: right; border: none;\">\n",
       "                0.0017\n",
       "                \n",
       "                    &plusmn; 0.0002\n",
       "                \n",
       "            </td>\n",
       "            <td style=\"padding: 0 0.5em 0 0.5em; text-align: left; border: none;\">\n",
       "                mi_60\n",
       "            </td>\n",
       "        </tr>\n",
       "    \n",
       "        <tr style=\"background-color: hsl(120, 100.00%, 95.17%); border: none;\">\n",
       "            <td style=\"padding: 0 1em 0 0.5em; text-align: right; border: none;\">\n",
       "                0.0015\n",
       "                \n",
       "                    &plusmn; 0.0005\n",
       "                \n",
       "            </td>\n",
       "            <td style=\"padding: 0 0.5em 0 0.5em; text-align: left; border: none;\">\n",
       "                ror_100\n",
       "            </td>\n",
       "        </tr>\n",
       "    \n",
       "        <tr style=\"background-color: hsl(120, 100.00%, 95.27%); border: none;\">\n",
       "            <td style=\"padding: 0 1em 0 0.5em; text-align: right; border: none;\">\n",
       "                0.0014\n",
       "                \n",
       "                    &plusmn; 0.0001\n",
       "                \n",
       "            </td>\n",
       "            <td style=\"padding: 0 0.5em 0 0.5em; text-align: left; border: none;\">\n",
       "                atr_60\n",
       "            </td>\n",
       "        </tr>\n",
       "    \n",
       "        <tr style=\"background-color: hsl(120, 100.00%, 95.79%); border: none;\">\n",
       "            <td style=\"padding: 0 1em 0 0.5em; text-align: right; border: none;\">\n",
       "                0.0012\n",
       "                \n",
       "                    &plusmn; 0.0002\n",
       "                \n",
       "            </td>\n",
       "            <td style=\"padding: 0 0.5em 0 0.5em; text-align: left; border: none;\">\n",
       "                h_atr_20\n",
       "            </td>\n",
       "        </tr>\n",
       "    \n",
       "        <tr style=\"background-color: hsl(120, 100.00%, 95.91%); border: none;\">\n",
       "            <td style=\"padding: 0 1em 0 0.5em; text-align: right; border: none;\">\n",
       "                0.0012\n",
       "                \n",
       "                    &plusmn; 0.0003\n",
       "                \n",
       "            </td>\n",
       "            <td style=\"padding: 0 0.5em 0 0.5em; text-align: left; border: none;\">\n",
       "                h_atr_40\n",
       "            </td>\n",
       "        </tr>\n",
       "    \n",
       "        <tr style=\"background-color: hsl(120, 100.00%, 95.94%); border: none;\">\n",
       "            <td style=\"padding: 0 1em 0 0.5em; text-align: right; border: none;\">\n",
       "                0.0012\n",
       "                \n",
       "                    &plusmn; 0.0001\n",
       "                \n",
       "            </td>\n",
       "            <td style=\"padding: 0 0.5em 0 0.5em; text-align: left; border: none;\">\n",
       "                vola_60\n",
       "            </td>\n",
       "        </tr>\n",
       "    \n",
       "        <tr style=\"background-color: hsl(120, 100.00%, 96.98%); border: none;\">\n",
       "            <td style=\"padding: 0 1em 0 0.5em; text-align: right; border: none;\">\n",
       "                0.0008\n",
       "                \n",
       "                    &plusmn; 0.0002\n",
       "                \n",
       "            </td>\n",
       "            <td style=\"padding: 0 0.5em 0 0.5em; text-align: left; border: none;\">\n",
       "                vol_60\n",
       "            </td>\n",
       "        </tr>\n",
       "    \n",
       "        <tr style=\"background-color: hsl(120, 100.00%, 97.03%); border: none;\">\n",
       "            <td style=\"padding: 0 1em 0 0.5em; text-align: right; border: none;\">\n",
       "                0.0007\n",
       "                \n",
       "                    &plusmn; 0.0001\n",
       "                \n",
       "            </td>\n",
       "            <td style=\"padding: 0 0.5em 0 0.5em; text-align: left; border: none;\">\n",
       "                vol_40\n",
       "            </td>\n",
       "        </tr>\n",
       "    \n",
       "        <tr style=\"background-color: hsl(120, 100.00%, 97.16%); border: none;\">\n",
       "            <td style=\"padding: 0 1em 0 0.5em; text-align: right; border: none;\">\n",
       "                0.0007\n",
       "                \n",
       "                    &plusmn; 0.0008\n",
       "                \n",
       "            </td>\n",
       "            <td style=\"padding: 0 0.5em 0 0.5em; text-align: left; border: none;\">\n",
       "                mi_100\n",
       "            </td>\n",
       "        </tr>\n",
       "    \n",
       "        <tr style=\"background-color: hsl(120, 100.00%, 97.42%); border: none;\">\n",
       "            <td style=\"padding: 0 1em 0 0.5em; text-align: right; border: none;\">\n",
       "                0.0006\n",
       "                \n",
       "                    &plusmn; 0.0002\n",
       "                \n",
       "            </td>\n",
       "            <td style=\"padding: 0 0.5em 0 0.5em; text-align: left; border: none;\">\n",
       "                hl_60\n",
       "            </td>\n",
       "        </tr>\n",
       "    \n",
       "        <tr style=\"background-color: hsl(120, 100.00%, 97.43%); border: none;\">\n",
       "            <td style=\"padding: 0 1em 0 0.5em; text-align: right; border: none;\">\n",
       "                0.0006\n",
       "                \n",
       "                    &plusmn; 0.0001\n",
       "                \n",
       "            </td>\n",
       "            <td style=\"padding: 0 0.5em 0 0.5em; text-align: left; border: none;\">\n",
       "                atr_10\n",
       "            </td>\n",
       "        </tr>\n",
       "    \n",
       "        <tr style=\"background-color: hsl(120, 100.00%, 97.46%); border: none;\">\n",
       "            <td style=\"padding: 0 1em 0 0.5em; text-align: right; border: none;\">\n",
       "                0.0006\n",
       "                \n",
       "                    &plusmn; 0.0001\n",
       "                \n",
       "            </td>\n",
       "            <td style=\"padding: 0 0.5em 0 0.5em; text-align: left; border: none;\">\n",
       "                atr_5\n",
       "            </td>\n",
       "        </tr>\n",
       "    \n",
       "        <tr style=\"background-color: hsl(120, 100.00%, 97.82%); border: none;\">\n",
       "            <td style=\"padding: 0 1em 0 0.5em; text-align: right; border: none;\">\n",
       "                0.0005\n",
       "                \n",
       "                    &plusmn; 0.0000\n",
       "                \n",
       "            </td>\n",
       "            <td style=\"padding: 0 0.5em 0 0.5em; text-align: left; border: none;\">\n",
       "                mi_20\n",
       "            </td>\n",
       "        </tr>\n",
       "    \n",
       "        <tr style=\"background-color: hsl(120, 100.00%, 98.49%); border: none;\">\n",
       "            <td style=\"padding: 0 1em 0 0.5em; text-align: right; border: none;\">\n",
       "                0.0003\n",
       "                \n",
       "                    &plusmn; 0.0000\n",
       "                \n",
       "            </td>\n",
       "            <td style=\"padding: 0 0.5em 0 0.5em; text-align: left; border: none;\">\n",
       "                d_atr_5\n",
       "            </td>\n",
       "        </tr>\n",
       "    \n",
       "    \n",
       "        \n",
       "            <tr style=\"background-color: hsl(120, 100.00%, 98.49%); border: none;\">\n",
       "                <td colspan=\"2\" style=\"padding: 0 0.5em 0 0.5em; text-align: center; border: none; white-space: nowrap;\">\n",
       "                    <i>&hellip; 44 more &hellip;</i>\n",
       "                </td>\n",
       "            </tr>\n",
       "        \n",
       "    \n",
       "    </tbody>\n",
       "</table>\n",
       "    \n",
       "\n",
       "    \n",
       "\n",
       "\n",
       "    \n",
       "\n",
       "    \n",
       "\n",
       "    \n",
       "\n",
       "    \n",
       "\n",
       "    \n",
       "\n",
       "    \n",
       "\n",
       "\n",
       "\n"
      ],
      "text/plain": [
       "<IPython.core.display.HTML object>"
      ]
     },
     "execution_count": 18,
     "metadata": {},
     "output_type": "execute_result"
    }
   ],
   "source": [
    "import eli5\n",
    "from eli5.sklearn import PermutationImportance\n",
    "\n",
    "perm = PermutationImportance(model,random_state=2019)\n",
    "perm.fit(X_ev.drop([\"code\"],axis=1),y_ev)\n",
    "eli5.show_weights(perm, feature_names=X_ev.drop([\"code\"],axis=1).columns.to_list())"
   ]
  },
  {
   "cell_type": "code",
   "execution_count": 19,
   "id": "9102cb6e",
   "metadata": {},
   "outputs": [
    {
     "data": {
      "text/plain": [
       "array([-0.00351152, -0.00315209, -0.00313449, ..., -0.00354749,\n",
       "       -0.00352543, -0.00355736])"
      ]
     },
     "execution_count": 19,
     "metadata": {},
     "output_type": "execute_result"
    }
   ],
   "source": [
    "model.predict(te.drop([\"code\", \"target\"], axis=1))"
   ]
  },
  {
   "cell_type": "code",
   "execution_count": 20,
   "id": "bf3d7192",
   "metadata": {},
   "outputs": [],
   "source": [
    "_df = te.copy()\n",
    "_df[\"pred\"] = model.predict(te.drop([\"code\", \"target\"], axis=1))\n",
    "time_data = _df[[\"code\", \"close\", \"target\", \"pred\"]]"
   ]
  },
  {
   "cell_type": "code",
   "execution_count": 21,
   "id": "8be34d1f",
   "metadata": {},
   "outputs": [],
   "source": [
    "def visualize_time(time_data, code=\"DIA\"):\n",
    "    _stock = time_data[time_data[\"code\"]==code].tail(20)\n",
    "    _past_df = time_data[time_data[\"code\"]==code].reset_index(drop=True)\n",
    "    \n",
    "    _true_future = _stock[\"close\"] - (_stock[\"close\"] * _stock[\"target\"] )\n",
    "    _true_df = pd.concat([_past_df[\"close\"], _true_future]).reset_index(drop=True)\n",
    "    \n",
    "    _pred_future = _stock[\"close\"] - (_stock[\"close\"] * _stock[\"pred\"] )\n",
    "    _pred_df = pd.concat([_past_df[\"close\"], _pred_future]).reset_index(drop=True)\n",
    "    \n",
    "    import matplotlib.pyplot as plt\n",
    "    %matplotlib inline\n",
    "\n",
    "    # チャート定義\n",
    "    fig, ax = plt.subplots(figsize=(20, 10))\n",
    "\n",
    "    # プロット\n",
    "    ax.plot(_true_df.index, _true_df.values, label=\"true_stock\")\n",
    "    ax.plot(_pred_df.index, _pred_df.values, label=\"pred_stock\")\n",
    "\n",
    "    # 凡例表示\n",
    "    plt.legend()\n",
    "\n",
    "    # グリッド表示\n",
    "    plt.grid()\n",
    "\n",
    "    # グラフを表示\n",
    "    plt.show()"
   ]
  },
  {
   "cell_type": "code",
   "execution_count": 22,
   "id": "ce31e0c1",
   "metadata": {},
   "outputs": [
    {
     "data": {
      "image/png": "[encoded data removed]",
      "text/plain": [
       "<Figure size 1440x720 with 1 Axes>"
      ]
     },
     "metadata": {
      "needs_background": "light"
     },
     "output_type": "display_data"
    }
   ],
   "source": [
    "visualize_time(time_data, \"SPY\")"
   ]
  },
  {
   "cell_type": "code",
   "execution_count": null,
   "id": "84372425",
   "metadata": {},
   "outputs": [],
   "source": []
  },
  {
   "cell_type": "markdown",
   "id": "eda20f2e",
   "metadata": {},
   "source": [
    "## Stock Price"
   ]
  },
  {
   "cell_type": "code",
   "execution_count": 1,
   "id": "a5544056",
   "metadata": {},
   "outputs": [],
   "source": [
    "import pandas as pd\n",
    "import datetime as dt\n",
    "import pandas_datareader.data as web\n",
    "import yfinance as yf\n",
    "import numpy as np\n",
    "import lightgbm as lgb\n",
    "import shap\n",
    "import warnings\n",
    "import matplotlib.pyplot as plt\n",
    "import numpy as np\n",
    "import datetime\n",
    "plt.style.use('seaborn')\n",
    "from lightgbm import LGBMRegressor\n",
    "from tqdm import tqdm\n",
    "from yahooquery import Ticker\n",
    "from timeseriescv import cross_validation as cv\n",
    "from sklearn.model_selection import train_test_split\n",
    "from sklearn.metrics import mean_absolute_error\n",
    "from scipy import stats as scipy_stats"
   ]
  },
  {
   "cell_type": "code",
   "execution_count": 18,
   "id": "9b8e5928",
   "metadata": {},
   "outputs": [],
   "source": [
    "warnings.simplefilter('ignore')"
   ]
  },
  {
   "cell_type": "code",
   "execution_count": 2,
   "id": "2873d899",
   "metadata": {},
   "outputs": [],
   "source": [
    "ETF_CODE = ['DIA','SPY','QQQ','IBB','XLV','IWM','EEM','EFA','XLP','XLY','ITB','XLU','XLF',\n",
    "            'VGT','VT','FDN','IWO','IWN','IYF','XLK','XOP','USMV','BAB','GLD',\n",
    "            'VNQ','SCHH','IYR','XLRE','AGG','BND','LQD','VCSH','VCIT','JNK']"
   ]
  },
  {
   "cell_type": "code",
   "execution_count": 3,
   "id": "2f78a47c",
   "metadata": {},
   "outputs": [],
   "source": [
    "def get_stock_price(startday=None):\n",
    "    etf_dict = {}\n",
    "    for code in ETF_CODE:\n",
    "        ticker = Ticker(code)\n",
    "        # tsd = ticker.history(period='5y', interval='1d', start=startday, end=None)\n",
    "        tsd = ticker.history(period='7y', interval='1d', start=\"2015-01-01\", end=None)\n",
    "        tsd[\"code\"] = code\n",
    "        etf_dict[code] = tsd.reset_index()\n",
    "    \n",
    "    return etf_dict"
   ]
  },
  {
   "cell_type": "code",
   "execution_count": 4,
   "id": "8b90f6ab",
   "metadata": {},
   "outputs": [],
   "source": [
    "etf_dict = get_stock_price()"
   ]
  },
  {
   "cell_type": "markdown",
   "id": "b13b1fad",
   "metadata": {},
   "source": [
    "## feature engineerging"
   ]
  },
  {
   "cell_type": "code",
   "execution_count": 5,
   "id": "70e7cbc7",
   "metadata": {},
   "outputs": [],
   "source": [
    "def preprocess_technical(_df):\n",
    "        # 期間の型変更\n",
    "        _df[\"date\"] = pd.to_datetime(_df[\"date\"])\n",
    "\n",
    "        # ターゲット\n",
    "        _df[\"target\"] = _df[\"close\"].pct_change(-20)\n",
    "        # _df[\"target_40\"] = _df[\"close\"].pct_change(-40)\n",
    "        # _df[\"target_60\"] = _df[\"close\"].pct_change(-60)\n",
    "\n",
    "        # 騰落率\n",
    "        _df[\"ror_1\"] = _df[\"close\"].pct_change(1)\n",
    "        _df[\"ror_5\"] = _df[\"close\"].pct_change(5)\n",
    "        _df[\"ror_10\"] = _df[\"close\"].pct_change(10)\n",
    "        _df[\"ror_20\"] = _df[\"close\"].pct_change(20)\n",
    "        _df[\"ror_40\"] = _df[\"close\"].pct_change(40)\n",
    "        _df[\"ror_60\"] = _df[\"close\"].pct_change(60)\n",
    "        _df[\"ror_100\"] = _df[\"close\"].pct_change(100)\n",
    "\n",
    "        # ボラティリティ\n",
    "        _df[\"vola_1\"] = _df[\"ror_1\"].std()\n",
    "        _df[\"vola_5\"] = _df[\"ror_1\"].rolling(5).std()\n",
    "        _df[\"vola_10\"] = _df[\"ror_1\"].rolling(10).std()\n",
    "        _df[\"vola_20\"] = _df[\"ror_1\"].rolling(20).std()\n",
    "        _df[\"vola_40\"] = _df[\"ror_1\"].rolling(40).std()\n",
    "        _df[\"vola_60\"] = _df[\"ror_1\"].rolling(60).std()\n",
    "        _df[\"vola_100\"] = _df[\"ror_1\"].rolling(100).std()\n",
    "\n",
    "        # 売買代金\n",
    "        _df[\"volume\"] = _df[\"close\"] * _df[\"volume\"]\n",
    "        _df = _df.replace([np.inf, -np.inf], np.nan)\n",
    "\n",
    "        _df[\"vol_1\"] = _df[\"volume\"]\n",
    "        _df[\"vol_5\"] = _df[\"volume\"].rolling(5).mean()\n",
    "        _df[\"vol_10\"] = _df[\"volume\"].rolling(10).mean()\n",
    "        _df[\"vol_20\"] = _df[\"volume\"].rolling(20).mean()\n",
    "        _df[\"vol_40\"] = _df[\"volume\"].rolling(40).mean()\n",
    "        _df[\"vol_60\"] = _df[\"volume\"].rolling(60).mean()\n",
    "        _df[\"vol_100\"] = _df[\"volume\"].rolling(100).mean()\n",
    "        _df[\"d_vol\"] = _df[\"volume\"] / _df[\"vol_20\"]\n",
    "\n",
    "        # レンジ\n",
    "        _df[\"prev_close\"] = _df[\"close\"].shift()\n",
    "        _df = _df.replace([np.inf, -np.inf], np.nan)\n",
    "        _df[\"range\"] = (_df[[\"prev_close\", \"high\"]].max(axis=1) - _df[[\"prev_close\", \"low\"]].min(axis=1)) / _df[\"prev_close\"]\n",
    "        _df = _df.replace([np.inf, -np.inf], np.nan)\n",
    "\n",
    "        _df[\"atr_1\"] = _df[\"range\"]\n",
    "        _df[\"atr_5\"] = _df[\"range\"].rolling(5).mean()\n",
    "        _df[\"atr_10\"] = _df[\"range\"].rolling(10).mean()\n",
    "        _df[\"atr_20\"] = _df[\"range\"].rolling(20).mean()\n",
    "        _df[\"atr_40\"] = _df[\"range\"].rolling(40).mean()\n",
    "        _df[\"atr_60\"] = _df[\"range\"].rolling(60).mean()\n",
    "        _df[\"atr_100\"] = _df[\"range\"].rolling(100).mean()\n",
    "        _df[\"d_atr\"] = _df[\"range\"]/_df[\"atr_20\"]\n",
    "\n",
    "        # ギャップレンジ\n",
    "        _df[\"gap_range\"] = (np.abs(_df[\"open\"] - _df[\"prev_close\"])) / _df[\"prev_close\"]\n",
    "        _df[\"g_atr_1\"] = _df[\"gap_range\"]\n",
    "        _df[\"g_atr_5\"] = _df[\"gap_range\"].rolling(5).mean()\n",
    "        _df[\"g_atr_10\"] = _df[\"gap_range\"].rolling(10).mean()\n",
    "        _df[\"g_atr_20\"] = _df[\"gap_range\"].rolling(20).mean()\n",
    "        _df[\"g_atr_40\"] = _df[\"gap_range\"].rolling(40).mean()\n",
    "        _df[\"g_atr_60\"] = _df[\"gap_range\"].rolling(60).mean()\n",
    "        _df[\"g_atr_100\"] = _df[\"gap_range\"].rolling(100).mean()\n",
    "\n",
    "        # デイレンジ\n",
    "        _df[\"day_range\"] = (_df[\"high\"] - _df[\"low\"]) / _df[\"prev_close\"]\n",
    "        _df[\"d_atr_1\"] = _df[\"day_range\"]\n",
    "        _df[\"d_atr_5\"] = _df[\"day_range\"].rolling(5).mean()\n",
    "        _df[\"d_atr_10\"] = _df[\"day_range\"].rolling(10).mean()\n",
    "        _df[\"d_atr_20\"] = _df[\"day_range\"].rolling(20).mean()\n",
    "        _df[\"d_atr_40\"] = _df[\"day_range\"].rolling(40).mean()\n",
    "        _df[\"d_atr_60\"] = _df[\"day_range\"].rolling(60).mean()\n",
    "        _df[\"d_atr_100\"] = _df[\"day_range\"].rolling(100).mean()\n",
    "\n",
    "        # ヒゲレンジ\n",
    "        _df[\"hig_range\"] = ((_df[\"high\"] - _df[\"low\"]) - np.abs(_df[\"open\"] - _df[\"close\"])) / _df[\"prev_close\"]\n",
    "        _df[\"h_atr_1\"] = _df[\"hig_range\"]\n",
    "        _df[\"h_atr_5\"] = _df[\"hig_range\"].rolling(5).mean()\n",
    "        _df[\"h_atr_10\"] = _df[\"hig_range\"].rolling(10).mean()\n",
    "        _df[\"h_atr_20\"] = _df[\"hig_range\"].rolling(20).mean()\n",
    "        _df[\"h_atr_40\"] = _df[\"hig_range\"].rolling(40).mean()\n",
    "        _df[\"h_atr_60\"] = _df[\"hig_range\"].rolling(60).mean()\n",
    "        _df[\"h_atr_100\"] = _df[\"hig_range\"].rolling(100).mean()\n",
    "\n",
    "        # HLバンド\n",
    "        _df[\"hl_5\"] = _df[\"high\"].rolling(5).max() - _df[\"low\"].rolling(5).min()\n",
    "        _df[\"hl_10\"] = _df[\"high\"].rolling(10).max() - _df[\"low\"].rolling(10).min()\n",
    "        _df[\"hl_20\"] = _df[\"high\"].rolling(20).max() - _df[\"low\"].rolling(20).min()\n",
    "        _df[\"hl_40\"] = _df[\"high\"].rolling(40).max() - _df[\"low\"].rolling(40).min()\n",
    "        _df[\"hl_60\"] = _df[\"high\"].rolling(60).max() - _df[\"low\"].rolling(60).min()\n",
    "        _df[\"hl_100\"] = _df[\"high\"].rolling(100).max() - _df[\"low\"].rolling(100).min()\n",
    "\n",
    "        # マーケットインパクト\n",
    "        _df[\"mi\"] = _df[\"range\"] / (_df[\"volume\"] * _df[\"close\"])\n",
    "        _df = _df.replace([np.inf, -np.inf], np.nan)\n",
    "\n",
    "        _df[\"mi_5\"] = _df[\"mi\"].rolling(5).mean()\n",
    "        _df[\"mi_10\"] = _df[\"mi\"].rolling(10).mean()\n",
    "        _df[\"mi_20\"] = _df[\"mi\"].rolling(20).mean()\n",
    "        _df[\"mi_40\"] = _df[\"mi\"].rolling(40).mean()\n",
    "        _df[\"mi_60\"] = _df[\"mi\"].rolling(60).mean()\n",
    "        _df[\"mi_100\"] = _df[\"mi\"].rolling(100).mean()\n",
    "\n",
    "        feat = [\"date\", \"code\", \"close\", \n",
    "                \"ror_1\", \"ror_5\", \"ror_10\", \"ror_20\", \"ror_40\", \"ror_60\", \"ror_100\",\n",
    "                \"vol_1\", \"vol_5\", \"vol_10\", \"vol_20\", \"vol_40\", \"vol_60\", \"vol_100\", \"d_vol\",\n",
    "                \"atr_1\", \"atr_5\", \"atr_10\", \"atr_20\", \"atr_40\", \"atr_60\", \"atr_100\", \"d_atr\",\n",
    "                \"g_atr_1\", \"g_atr_5\", \"g_atr_10\", \"g_atr_20\", \"g_atr_40\", \"g_atr_60\", \"g_atr_100\",\n",
    "                \"d_atr_1\", \"d_atr_5\", \"d_atr_10\", \"d_atr_20\", \"d_atr_40\", \"d_atr_60\", \"d_atr_100\",\n",
    "                \"h_atr_1\", \"h_atr_5\", \"h_atr_10\", \"h_atr_20\", \"h_atr_40\", \"h_atr_60\", \"h_atr_100\",\n",
    "                \"vola_1\", \"vola_5\", \"vola_10\", \"vola_20\", \"vola_40\", \"vola_60\", \"vola_100\",\n",
    "                \"hl_5\", \"hl_10\", \"hl_20\", \"hl_40\", \"hl_60\", \"hl_100\",\n",
    "                \"mi_5\", \"mi_10\", \"mi_20\", \"mi_40\", \"mi_60\", \"mi_100\",\n",
    "                \"target\",]\n",
    "\n",
    "        _df = _df[feat]\n",
    "        _df = _df.set_index([\"date\"])\n",
    "\n",
    "        return _df"
   ]
  },
  {
   "cell_type": "code",
   "execution_count": 6,
   "id": "b4f7873c",
   "metadata": {},
   "outputs": [],
   "source": [
    "df = pd.DataFrame()\n",
    "for code in ETF_CODE:\n",
    "    _df = preprocess_technical(etf_dict[code])\n",
    "    df = pd.concat([df, _df])"
   ]
  },
  {
   "cell_type": "code",
   "execution_count": 7,
   "id": "898cd2c8",
   "metadata": {},
   "outputs": [],
   "source": [
    "data = df[df[\"target\"] == df[\"target\"]]\n",
    "future = df[df[\"target\"] != df[\"target\"]]"
   ]
  },
  {
   "cell_type": "code",
   "execution_count": null,
   "id": "6c24e1b1",
   "metadata": {},
   "outputs": [],
   "source": []
  },
  {
   "cell_type": "markdown",
   "id": "9a8d4a9d",
   "metadata": {},
   "source": [
    "## Triple Barrier"
   ]
  },
  {
   "cell_type": "code",
   "execution_count": 8,
   "id": "ae96e77e",
   "metadata": {},
   "outputs": [],
   "source": [
    "def get_Daily_Volatility(close, span0=20):\n",
    "    df = close.pct_change()    \n",
    "    df = df.ewm(span=span0).std()\n",
    "    df.dropna(inplace=True)\n",
    "    \n",
    "    return df"
   ]
  },
  {
   "cell_type": "code",
   "execution_count": 9,
   "id": "4200aafb",
   "metadata": {},
   "outputs": [],
   "source": [
    "def get_3_barriers(prices, daily_volatility):\n",
    "    days_passed = 0\n",
    "    barriers = pd.DataFrame(columns=['days_passed', 'price', 'vert_barrier', 'top_barrier', 'bottom_barrier'], \n",
    "               index = daily_volatility.index)\n",
    "    \n",
    "    for day, vol in daily_volatility.iteritems():\n",
    "        days_passed += 1\n",
    "        \n",
    "        #set the vertical barrier \n",
    "        if (days_passed + t_final < len(daily_volatility.index) and t_final != 0):\n",
    "            vert_barrier = daily_volatility.index[days_passed + t_final]\n",
    "        else:\n",
    "            vert_barrier = np.nan\n",
    "            \n",
    "        #set the top barrier\n",
    "        if upper_lower_multipliers[0] > 0:\n",
    "            top_barrier = prices.loc[day] + prices.loc[day] * upper_lower_multipliers[0] * vol\n",
    "        else:\n",
    "            top_barrier = pd.Series(index=prices.index)\n",
    "            \n",
    "        #set the bottom barrier\n",
    "        if upper_lower_multipliers[1] > 0:\n",
    "            bottom_barrier = prices.loc[day] - prices.loc[day] * upper_lower_multipliers[1] * vol\n",
    "        else: \n",
    "            bottom_barrier = pd.Series(index=prices.index)\n",
    "            \n",
    "        barriers.loc[day, ['days_passed', 'price',  'vert_barrier','top_barrier', 'bottom_barrier']] = \\\n",
    "         days_passed, prices.loc[day], vert_barrier, top_barrier, bottom_barrier\n",
    "    \n",
    "    return barriers"
   ]
  },
  {
   "cell_type": "code",
   "execution_count": 10,
   "id": "a6b94460",
   "metadata": {},
   "outputs": [],
   "source": [
    "def get_labels(barriers):\n",
    "    barriers['out'] = None\n",
    "    barriers[\"ret\"] = 0.0\n",
    "    \n",
    "    for i in range(len(barriers.index)):\n",
    "        # start: first day of the window\n",
    "        # end:last day of the window\n",
    "        start = barriers.index[i]\n",
    "        end = barriers.vert_barrier[i]\n",
    "        \n",
    "        if pd.notna(end):\n",
    "            # price_initial: first day stock price\n",
    "            # price_final:last day stock price\n",
    "            price_initial = barriers.price[start]\n",
    "            price_final = barriers.price[end]\n",
    "            barriers[\"ret\"][i] = price_final / price_initial\n",
    "            \n",
    "            # top_barrier: profit taking limit\n",
    "            # bottom_barrier:stop loss limt\n",
    "            top_barrier = barriers.top_barrier[i]\n",
    "            bottom_barrier = barriers.bottom_barrier[i]\n",
    "            \n",
    "            # condition_pt:top_barrier touching conditon\n",
    "            # condition_sl:bottom_barrier touching conditon\n",
    "            condition_pt = (barriers.price[start: end] >= top_barrier).any()\n",
    "            condition_sl = (barriers.price[start: end] <= bottom_barrier).any()\n",
    "            \n",
    "            #assign the labels\n",
    "            if condition_pt: \n",
    "                barriers['out'][i] = 1\n",
    "            elif condition_sl: \n",
    "                barriers['out'][i] = -1    \n",
    "            else:\n",
    "                barriers['out'][i] = 0\n",
    "\n",
    "    return barriers"
   ]
  },
  {
   "cell_type": "code",
   "execution_count": 43,
   "id": "b1b970ee",
   "metadata": {},
   "outputs": [],
   "source": [
    "def get_meta_labeling(barriers, min_return):\n",
    "    barriers[\"meta_label\"] = 0\n",
    "    \n",
    "    long_points = barriers[(barriers[\"out\"] == 1) & (barriers[\"ret\"] > min_return)].index\n",
    "    for idx in long_points:\n",
    "        barriers.loc[idx, \"meta_label\"] = 1\n",
    "\n",
    "    short_points = barriers[(barriers[\"out\"] == -1) & (barriers[\"ret\"] < min_return)].index\n",
    "    for idx in short_points:\n",
    "        barriers.loc[idx, \"meta_label\"] = 1\n",
    "\n",
    "    return barriers"
   ]
  },
  {
   "cell_type": "code",
   "execution_count": 44,
   "id": "7e346278",
   "metadata": {},
   "outputs": [],
   "source": [
    "# the up and low boundary multipliers\n",
    "upper_lower_multipliers = [2, 1]\n",
    "\n",
    "# how many days we hold the stock which set the vertical barrier\n",
    "t_final = 20\n",
    "\n",
    "# minimum return for bets\n",
    "min_return = 1.1"
   ]
  },
  {
   "cell_type": "code",
   "execution_count": 45,
   "id": "81ac4b2c",
   "metadata": {},
   "outputs": [],
   "source": [
    "CODE = \"SPY\"\n",
    "\n",
    "# set the boundary of barriers, based on 20 days EWM\n",
    "_code_close = data[data[\"code\"]==CODE][\"close\"]\n",
    "daily_volatility = get_Daily_Volatility(_code_close, span0=t_final)\n",
    "prices = _code_close[daily_volatility.index]"
   ]
  },
  {
   "cell_type": "code",
   "execution_count": 46,
   "id": "5cffddb4",
   "metadata": {},
   "outputs": [],
   "source": [
    "# set the triple barrier with vert line and horizon line \n",
    "barriers = get_3_barriers(prices, daily_volatility)"
   ]
  },
  {
   "cell_type": "code",
   "execution_count": 47,
   "id": "321e2113",
   "metadata": {},
   "outputs": [],
   "source": [
    "# set the label {0, 1, -1}to barriers\n",
    "barriers_label = get_labels(barriers)"
   ]
  },
  {
   "cell_type": "code",
   "execution_count": 49,
   "id": "ed3ede07",
   "metadata": {},
   "outputs": [],
   "source": [
    "# set the meta-label {0, 1} to barriers\n",
    "barriers_mlabel = get_meta_labeling(barriers_lable, min_return)"
   ]
  },
  {
   "cell_type": "code",
   "execution_count": 53,
   "id": "9b5b240b",
   "metadata": {},
   "outputs": [
    {
     "data": {
      "text/plain": [
       "0    1631\n",
       "1      25\n",
       "Name: meta_label, dtype: int64"
      ]
     },
     "execution_count": 53,
     "metadata": {},
     "output_type": "execute_result"
    }
   ],
   "source": [
    "barriers_mlabel.meta_label.value_counts()"
   ]
  },
  {
   "cell_type": "code",
   "execution_count": null,
   "id": "48f386a7",
   "metadata": {},
   "outputs": [],
   "source": []
  },
  {
   "cell_type": "code",
   "execution_count": null,
   "id": "27980550",
   "metadata": {},
   "outputs": [],
   "source": []
  },
  {
   "cell_type": "markdown",
   "id": "695ba2b4",
   "metadata": {},
   "source": [
    "## Backtests"
   ]
  },
  {
   "cell_type": "code",
   "execution_count": 188,
   "id": "92bb0ec0",
   "metadata": {},
   "outputs": [],
   "source": [
    "class backtest():\n",
    "    def estimated_sharpe_ratio(self, returns):\n",
    "        return np.log(returns.mean()) / returns.std(ddof=1)\n",
    "\n",
    "    def ann_estimated_sharpe_ratio(self, sr, periods=261):\n",
    "        sr = sr * np.sqrt(periods)\n",
    "        return sr\n",
    "\n",
    "    def main(self, barriers):\n",
    "        pnl = []\n",
    "        numberBet = 0\n",
    "        cumularivmPnL = 0\n",
    "        cumulariveReturn = 0.0\n",
    "\n",
    "        long_pos = barriers[barriers[\"meta_label\"]==1].copy()\n",
    "        all_pos = barriers.copy()\n",
    "\n",
    "        for idx, date in enumerate(long_pos.index):   \n",
    "            start_date = date - datetime.timedelta(t_final)\n",
    "            ret_range =  all_pos.loc[start_date : date, \"ret\"]\n",
    "\n",
    "            # SharpRatio\n",
    "            sharpRatio = self.estimated_sharpe_ratio(ret_range.values)\n",
    "\n",
    "            # AnnSharpRatio\n",
    "            annSharpRatio = self.ann_estimated_sharpe_ratio(sharpRatio)\n",
    "\n",
    "            # numberBet\n",
    "            numberBet += 1\n",
    "\n",
    "            # Cumularive PnL\n",
    "            price = long_pos.loc[date, \"price\"]\n",
    "            ret = long_pos.loc[date, \"ret\"]\n",
    "            cumularivmPnL += price * ret - price\n",
    "            pnl.append(ret)\n",
    "\n",
    "            # Cumularive returns\n",
    "            cumulariveReturn += ret\n",
    "\n",
    "        # hitRate\n",
    "        winBet = [v for v in pnl if v > 0]\n",
    "        hitRate = len(winBet) / numberBet\n",
    "        \n",
    "        return"
   ]
  },
  {
   "cell_type": "code",
   "execution_count": 189,
   "id": "ce542baf",
   "metadata": {},
   "outputs": [],
   "source": [
    "backtest = backtest()"
   ]
  },
  {
   "cell_type": "code",
   "execution_count": 190,
   "id": "4f4e92c3",
   "metadata": {},
   "outputs": [],
   "source": [
    "backtest.main(barriers_mlable)"
   ]
  },
  {
   "cell_type": "code",
   "execution_count": null,
   "id": "49218650",
   "metadata": {},
   "outputs": [],
   "source": []
  },
  {
   "cell_type": "code",
   "execution_count": null,
   "id": "0220097d",
   "metadata": {},
   "outputs": [],
   "source": []
  },
  {
   "cell_type": "code",
   "execution_count": null,
   "id": "087b82ca",
   "metadata": {},
   "outputs": [],
   "source": []
  },
  {
   "cell_type": "code",
   "execution_count": null,
   "id": "4de7a782",
   "metadata": {},
   "outputs": [],
   "source": []
  },
  {
   "cell_type": "code",
   "execution_count": null,
   "id": "d0a9ed94",
   "metadata": {},
   "outputs": [],
   "source": []
  },
  {
   "cell_type": "code",
   "execution_count": null,
   "id": "3c697aa9",
   "metadata": {},
   "outputs": [],
   "source": []
  },
  {
   "cell_type": "code",
   "execution_count": 428,
   "id": "4a39feb8",
   "metadata": {},
   "outputs": [
    {
     "data": {
      "image/png": "[encoded data removed]",
      "text/plain": [
       "<Figure size 576x396 with 1 Axes>"
      ]
     },
     "metadata": {},
     "output_type": "display_data"
    }
   ],
   "source": [
    "BARRIER = 1400\n",
    "\n",
    "fig,ax = plt.subplots()\n",
    "ax.set(title='stock price', xlabel='date', ylabel='price')\n",
    "ax.plot(barriers.price[1300: -1])\n",
    "\n",
    "start = barriers.index[BARRIER]\n",
    "end = barriers.index[BARRIER + t_final]\n",
    "upper_barrier = barriers.top_barrier[BARRIER]\n",
    "lower_barrier = barriers.bottom_barrier[BARRIER]\n",
    "\n",
    "ax.plot(barriers.index[BARRIER : BARRIER + t_final + 1], barriers.top_barrier[start:end], 'r--');\n",
    "ax.plot(barriers.index[BARRIER : BARRIER + t_final + 1], barriers.bottom_barrier[start:end], 'r--');\n",
    "ax.plot([start, end], [(lower_barrier + upper_barrier) * 0.5, (lower_barrier + upper_barrier) * 0.5], 'r--');\n",
    "ax.plot([start, start], [lower_barrier, upper_barrier], 'r-');\n",
    "ax.plot([end, end], [barriers.bottom_barrier[end], barriers.top_barrier[end]], 'r-');"
   ]
  },
  {
   "cell_type": "code",
   "execution_count": null,
   "id": "02531539",
   "metadata": {},
   "outputs": [],
   "source": []
  },
  {
   "cell_type": "code",
   "execution_count": null,
   "id": "a11d10e1",
   "metadata": {},
   "outputs": [],
   "source": []
  },
  {
   "cell_type": "code",
   "execution_count": null,
   "id": "fa3ebb9d",
   "metadata": {},
   "outputs": [],
   "source": []
  },
  {
   "cell_type": "code",
   "execution_count": null,
   "id": "d509588e",
   "metadata": {},
   "outputs": [],
   "source": []
  },
  {
   "cell_type": "code",
   "execution_count": null,
   "id": "929b0ff7",
   "metadata": {},
   "outputs": [],
   "source": []
  },
  {
   "cell_type": "code",
   "execution_count": null,
   "id": "93049f58",
   "metadata": {},
   "outputs": [],
   "source": []
  },
  {
   "cell_type": "code",
   "execution_count": null,
   "id": "729e626c",
   "metadata": {},
   "outputs": [],
   "source": []
  },
  {
   "cell_type": "code",
   "execution_count": null,
   "id": "cb941ab5",
   "metadata": {},
   "outputs": [],
   "source": []
  },
  {
   "cell_type": "code",
   "execution_count": null,
   "id": "316aa070",
   "metadata": {},
   "outputs": [],
   "source": []
  },
  {
   "cell_type": "code",
   "execution_count": null,
   "id": "d4dcf58e",
   "metadata": {},
   "outputs": [],
   "source": []
  },
  {
   "cell_type": "code",
   "execution_count": null,
   "id": "9cd3a66c",
   "metadata": {},
   "outputs": [],
   "source": []
  },
  {
   "cell_type": "code",
   "execution_count": null,
   "id": "1ef179bd",
   "metadata": {},
   "outputs": [],
   "source": []
  },
  {
   "cell_type": "code",
   "execution_count": null,
   "id": "8b8e07c7",
   "metadata": {},
   "outputs": [],
   "source": []
  },
  {
   "cell_type": "code",
   "execution_count": null,
   "id": "54546c79",
   "metadata": {},
   "outputs": [],
   "source": []
  },
  {
   "cell_type": "code",
   "execution_count": null,
   "id": "45d1bd13",
   "metadata": {},
   "outputs": [],
   "source": []
  },
  {
   "cell_type": "code",
   "execution_count": 23,
   "id": "7a96703b",
   "metadata": {},
   "outputs": [],
   "source": [
    "_data = te[[\"code\", \"close\", \"atr_1\", \"vola_1\", \"g_atr_100\", \"ror_100\", \"vola_100\"]]\n",
    "_data[\"label\"] = 0"
   ]
  },
  {
   "cell_type": "code",
   "execution_count": 24,
   "id": "11ab928c",
   "metadata": {},
   "outputs": [],
   "source": [
    "codes = _data[\"code\"].unique()"
   ]
  },
  {
   "cell_type": "code",
   "execution_count": 25,
   "id": "6a79435a",
   "metadata": {},
   "outputs": [],
   "source": [
    "_result_df = pd.DataFrame()\n",
    "\n",
    "for code in codes:\n",
    "    long_pos = 0\n",
    "    _tmp_df = _data[_data[\"code\"]==code].copy()\n",
    "    f1_thred = _tmp_df[\"g_atr_100\"].mean()\n",
    "    f2_thred = _tmp_df[\"ror_100\"].mean()\n",
    "    f3_thred = _tmp_df[\"vola_100\"].mean()\n",
    "    \n",
    "    for idx, val in enumerate(_tmp_df.index):\n",
    "        if long_pos == 0:\n",
    "            if _tmp_df.loc[val, \"g_atr_100\"] > f1_thred and _tmp_df.loc[val, \"ror_100\"] > f2_thred \\\n",
    "                 and _tmp_df.loc[val, \"vola_100\"] > f1_thred:\n",
    "                _tmp_df.loc[val, \"label\"] = 1\n",
    "                long_pos = 1\n",
    "            else:\n",
    "                continue\n",
    "\n",
    "        elif long_pos == 1:\n",
    "            if _tmp_df.loc[val, \"g_atr_100\"] < f1_thred and _tmp_df.loc[val, \"ror_100\"] < f2_thred \\\n",
    "                 and _tmp_df.loc[val, \"vola_100\"] < f1_thred:\n",
    "                long_pos = 0\n",
    "            else:\n",
    "                continue\n",
    "    \n",
    "    _result_df = pd.concat([_result_df, _tmp_df])"
   ]
  },
  {
   "cell_type": "code",
   "execution_count": 136,
   "id": "99d27d3b",
   "metadata": {},
   "outputs": [],
   "source": [
    "spy = _result_df[_result_df[\"code\"]==\"SPY\"]"
   ]
  },
  {
   "cell_type": "code",
   "execution_count": null,
   "id": "6ab362c8",
   "metadata": {},
   "outputs": [],
   "source": []
  },
  {
   "cell_type": "code",
   "execution_count": 32,
   "id": "ffb7a892",
   "metadata": {},
   "outputs": [
    {
     "data": {
      "text/plain": [
       "0       177.880005\n",
       "1       177.940002\n",
       "2       174.839996\n",
       "3       173.389999\n",
       "4       175.589996\n",
       "           ...    \n",
       "1662    351.149994\n",
       "1663    352.730011\n",
       "1664    354.940002\n",
       "1665    355.230011\n",
       "1666    355.390015\n",
       "Name: close, Length: 1667, dtype: float64"
      ]
     },
     "execution_count": 32,
     "metadata": {},
     "output_type": "execute_result"
    }
   ],
   "source": [
    "etf_dict[\"DIA\"][\"close\"]"
   ]
  },
  {
   "cell_type": "code",
   "execution_count": null,
   "id": "772480c0",
   "metadata": {},
   "outputs": [],
   "source": []
  },
  {
   "cell_type": "code",
   "execution_count": null,
   "id": "d19655cd",
   "metadata": {},
   "outputs": [],
   "source": []
  },
  {
   "cell_type": "code",
   "execution_count": null,
   "id": "29f84505",
   "metadata": {},
   "outputs": [],
   "source": []
  },
  {
   "cell_type": "code",
   "execution_count": null,
   "id": "896ce6b0",
   "metadata": {},
   "outputs": [],
   "source": []
  },
  {
   "cell_type": "code",
   "execution_count": null,
   "id": "548c9299",
   "metadata": {},
   "outputs": [],
   "source": [
    "def get_return(returns):\n",
    "    return returns.mean()\n",
    "\n",
    "def get_volatility(returns):\n",
    "    return returns.std()\n",
    "\n",
    "def estimated_sharpe_ratio(returns):\n",
    "    return returns.mean() / returns.std(ddof=1)\n",
    "\n",
    "def ann_estimated_sharpe_ratio(returns=None, periods=261, *, sr=None):\n",
    "    if sr is None:\n",
    "        sr = estimated_sharpe_ratio(returns)\n",
    "    sr = sr * np.sqrt(periods)\n",
    "    return sr\n",
    "\n",
    "def estimated_sharpe_ratio_stdev(returns=None, *, n=None, skew=None, kurtosis=None, sr=None):\n",
    "    if type(returns) != pd.DataFrame:\n",
    "        _returns = pd.DataFrame(returns)\n",
    "    else:\n",
    "        _returns = returns.copy()\n",
    "\n",
    "    if n is None:\n",
    "        n = len(_returns)\n",
    "    if skew is None:\n",
    "        skew = pd.Series(scipy_stats.skew(_returns), index=_returns.columns)\n",
    "    if kurtosis is None:\n",
    "        kurtosis = pd.Series(scipy_stats.kurtosis(_returns, fisher=False), index=_returns.columns)\n",
    "    if sr is None:\n",
    "        sr = estimated_sharpe_ratio(_returns)\n",
    "\n",
    "    sr_std = np.sqrt((1 + (0.5 * sr ** 2) - (skew * sr) + (((kurtosis - 3) / 4) * sr ** 2)) / (n - 1))\n",
    "\n",
    "    if type(returns) == pd.DataFrame:\n",
    "        sr_std = pd.Series(sr_std, index=returns.columns)\n",
    "    elif type(sr_std) not in (float, np.float64, pd.DataFrame):\n",
    "        sr_std = sr_std.values[0]\n",
    "\n",
    "    return sr_std\n",
    "\n",
    "def probabilistic_sharpe_ratio(returns=None, sr_benchmark=0.0, *, sr=None, sr_std=None):\n",
    "    if sr is None:\n",
    "        sr = estimated_sharpe_ratio(returns)\n",
    "    if sr_std is None:\n",
    "        sr_std = estimated_sharpe_ratio_stdev(returns, sr=sr)\n",
    "\n",
    "    psr = scipy_stats.norm.cdf((sr - sr_benchmark) / sr_std)\n",
    "\n",
    "    if type(returns) == pd.DataFrame:\n",
    "        psr = pd.Series(psr, index=returns.columns)\n",
    "    elif type(psr) not in (float, np.float64):\n",
    "        psr = psr[0]\n",
    "\n",
    "    return psr"
   ]
  },
  {
   "cell_type": "code",
   "execution_count": null,
   "id": "ee68837a",
   "metadata": {},
   "outputs": [],
   "source": []
  },
  {
   "cell_type": "code",
   "execution_count": null,
   "id": "c1340f3a",
   "metadata": {},
   "outputs": [],
   "source": [
    "def backtest(model, df):\n",
    "    result_list = []\n",
    "    \n",
    "    for code in te[\"code\"].unique():\n",
    "        _df = df[df[\"code\"]==code]\n",
    "        X, y = make_train_data(_df)\n",
    "        pred = model.predict(X.drop([\"code\"], axis=1))\n",
    "    \n",
    "        # rmse\n",
    "        _metrics = np.sqrt(mean_absolute_error(pred, y))\n",
    "    \n",
    "        # SR\n",
    "        true_sr = y.values.mean() / y.values.std()\n",
    "        pred_sr = pred.mean() / pred.std()\n",
    "\n",
    "        # PSR\n",
    "        true_psr = probabilistic_sharpe_ratio(returns=y.values)  + 0.000001\n",
    "        pred_psr = probabilistic_sharpe_ratio(returns=pred) + 0.000001\n",
    "    \n",
    "        # return\n",
    "        true_return = get_return(y.values)\n",
    "        pred_return = get_return(pred)\n",
    "\n",
    "        # volatility\n",
    "        true_volatility = get_volatility(y.values)\n",
    "        pred_volatility = get_volatility(pred)\n",
    "\n",
    "        tmp_list = [code, _metrics, true_sr, pred_sr, true_psr, pred_psr, \n",
    "                    true_return, pred_return, true_volatility, pred_volatility]\n",
    "        result_list.append(tmp_list)\n",
    "    \n",
    "    _columns = [\"code\", \"metrics\", \"true_sr\", \"pred_sr\", \"true_psr\", \"pred_psr\", \n",
    "                \"true_return\", \"pred_return\", \"true_volatility\", \"pred_volatility\"]\n",
    "    result_df = pd.DataFrame(data=result_list, columns=_columns)\n",
    "        \n",
    "    return result_df"
   ]
  },
  {
   "cell_type": "code",
   "execution_count": null,
   "id": "760fed2d",
   "metadata": {},
   "outputs": [],
   "source": []
  },
  {
   "cell_type": "code",
   "execution_count": null,
   "id": "75b87249",
   "metadata": {},
   "outputs": [],
   "source": [
    "results = backtest(model, te)\n",
    "results.sort_values(\"true_return\", ascending=False).head(10)"
   ]
  },
  {
   "cell_type": "code",
   "execution_count": null,
   "id": "87196d00",
   "metadata": {},
   "outputs": [],
   "source": []
  },
  {
   "cell_type": "code",
   "execution_count": null,
   "id": "5a39291f",
   "metadata": {},
   "outputs": [],
   "source": []
  },
  {
   "cell_type": "code",
   "execution_count": null,
   "id": "36fe6d34",
   "metadata": {},
   "outputs": [],
   "source": []
  },
  {
   "cell_type": "code",
   "execution_count": null,
   "id": "8a53638f",
   "metadata": {},
   "outputs": [],
   "source": []
  },
  {
   "cell_type": "code",
   "execution_count": null,
   "id": "88991e6e",
   "metadata": {},
   "outputs": [],
   "source": []
  },
  {
   "cell_type": "code",
   "execution_count": null,
   "id": "125d5fbd",
   "metadata": {},
   "outputs": [],
   "source": []
  },
  {
   "cell_type": "code",
   "execution_count": null,
   "id": "b91c3a04",
   "metadata": {},
   "outputs": [],
   "source": []
  },
  {
   "cell_type": "code",
   "execution_count": null,
   "id": "7b002cd5",
   "metadata": {},
   "outputs": [],
   "source": []
  },
  {
   "cell_type": "code",
   "execution_count": null,
   "id": "1f26b217",
   "metadata": {},
   "outputs": [],
   "source": []
  },
  {
   "cell_type": "code",
   "execution_count": null,
   "id": "1291d542",
   "metadata": {},
   "outputs": [],
   "source": []
  },
  {
   "cell_type": "code",
   "execution_count": null,
   "id": "126cce06",
   "metadata": {},
   "outputs": [],
   "source": []
  },
  {
   "cell_type": "code",
   "execution_count": null,
   "id": "6d9a11b2",
   "metadata": {},
   "outputs": [],
   "source": []
  },
  {
   "cell_type": "code",
   "execution_count": null,
   "id": "d5ebd7a4",
   "metadata": {},
   "outputs": [],
   "source": []
  },
  {
   "cell_type": "code",
   "execution_count": null,
   "id": "c0dbf937",
   "metadata": {},
   "outputs": [],
   "source": []
  },
  {
   "cell_type": "code",
   "execution_count": null,
   "id": "4d7c33bb",
   "metadata": {},
   "outputs": [],
   "source": []
  },
  {
   "cell_type": "code",
   "execution_count": null,
   "id": "f759455e",
   "metadata": {},
   "outputs": [],
   "source": []
  },
  {
   "cell_type": "code",
   "execution_count": null,
   "id": "a67911a9",
   "metadata": {},
   "outputs": [],
   "source": []
  },
  {
   "cell_type": "code",
   "execution_count": null,
   "id": "89bca4ec",
   "metadata": {},
   "outputs": [],
   "source": []
  },
  {
   "cell_type": "code",
   "execution_count": null,
   "id": "acfb3da7",
   "metadata": {},
   "outputs": [],
   "source": []
  },
  {
   "cell_type": "code",
   "execution_count": null,
   "id": "96663290",
   "metadata": {},
   "outputs": [],
   "source": []
  },
  {
   "cell_type": "code",
   "execution_count": null,
   "id": "b7090f28",
   "metadata": {},
   "outputs": [],
   "source": [
    "stocks = te.sort_values([\"code\", \"close\"])"
   ]
  },
  {
   "cell_type": "code",
   "execution_count": null,
   "id": "9c8632e1",
   "metadata": {},
   "outputs": [],
   "source": [
    "df_stocks = stocks.reset_index().sort_values([\"code\", \"date\"])[[\"code\", \"date\", \"ror_1\"]]"
   ]
  },
  {
   "cell_type": "code",
   "execution_count": null,
   "id": "27a3283f",
   "metadata": {},
   "outputs": [],
   "source": [
    "grouped_work = df_stocks.groupby(\"date\", as_index=False)"
   ]
  },
  {
   "cell_type": "code",
   "execution_count": null,
   "id": "9ea2aab4",
   "metadata": {},
   "outputs": [],
   "source": [
    "number_of_portfolio_stocks = 5\n",
    "\n",
    "# ポートフォリオの組成方法を戦略に応じて調整します\n",
    "strategies = {\n",
    "    # リターン・リバーサル戦略\n",
    "    \"reversal\": {\"asc\": True},\n",
    "    # トレンドフォロー戦略\n",
    "    \"trend\": {\"asc\": False},\n",
    "}\n",
    "\n",
    "df_portfolios = {}\n",
    "\n",
    "# strategy_id が設定されていない場合は全ての戦略のポートフォリオを作成します\n",
    "if \"strategy_id\" not in locals():\n",
    "    strategy_id = None"
   ]
  },
  {
   "cell_type": "code",
   "execution_count": null,
   "id": "917a3635",
   "metadata": {},
   "outputs": [],
   "source": [
    "for i in [strategy_id] if strategy_id is not None else strategies.keys():\n",
    "    #  日付毎に戦略に応じた上位25銘柄を選択します。\n",
    "    df_portfolios[i] = grouped_work.apply(\n",
    "        lambda x: x.sort_values(\n",
    "            \"ror_1\", ascending=strategies[i][\"asc\"]\n",
    "        ).head(number_of_portfolio_stocks)\n",
    "    )"
   ]
  },
  {
   "cell_type": "code",
   "execution_count": null,
   "id": "8917a8da",
   "metadata": {},
   "outputs": [],
   "source": []
  },
  {
   "cell_type": "code",
   "execution_count": null,
   "id": "a92e9a0b",
   "metadata": {},
   "outputs": [],
   "source": [
    "# 銘柄ごとの購入金額を指定\n",
    "budget = 50000\n",
    "# 戦略毎に処理\n",
    "for i in df_portfolios.keys():\n",
    "    # 購入株式数を設定\n",
    "    df_portfolios[i].loc[:, \"budget\"] = budget\n",
    "    # インデックスを日付のみにします\n",
    "    df_portfolios[i].reset_index(level=[0], inplace=True, drop=True)"
   ]
  },
  {
   "cell_type": "code",
   "execution_count": null,
   "id": "eccb0427",
   "metadata": {},
   "outputs": [],
   "source": [
    "# 戦略毎に処理\n",
    "for i in df_portfolios.keys():\n",
    "    # インデックス名を設定\n",
    "    df_portfolios[i] = df_portfolios[i].set_index(\"date\")\n",
    "    # 出力するカラムを絞り込みます\n",
    "    df_portfolios[i] = df_portfolios[i].loc[:, [\"code\", \"budget\"]]"
   ]
  },
  {
   "cell_type": "code",
   "execution_count": null,
   "id": "aa1f205d",
   "metadata": {},
   "outputs": [],
   "source": []
  },
  {
   "cell_type": "code",
   "execution_count": null,
   "id": "49924e9c",
   "metadata": {},
   "outputs": [],
   "source": [
    "test = df_portfolios[\"reversal\"]"
   ]
  },
  {
   "cell_type": "code",
   "execution_count": null,
   "id": "008aedcd",
   "metadata": {},
   "outputs": [],
   "source": [
    "test[test[\"code\"]==\"DIA\"]"
   ]
  },
  {
   "cell_type": "code",
   "execution_count": null,
   "id": "3f6a3667",
   "metadata": {},
   "outputs": [],
   "source": []
  },
  {
   "cell_type": "code",
   "execution_count": null,
   "id": "c11ada81",
   "metadata": {},
   "outputs": [],
   "source": []
  },
  {
   "cell_type": "code",
   "execution_count": null,
   "id": "87c56607",
   "metadata": {},
   "outputs": [],
   "source": []
  },
  {
   "cell_type": "code",
   "execution_count": null,
   "id": "9bd2fa25",
   "metadata": {},
   "outputs": [],
   "source": []
  },
  {
   "cell_type": "code",
   "execution_count": null,
   "id": "50dc537d",
   "metadata": {},
   "outputs": [],
   "source": []
  },
  {
   "cell_type": "code",
   "execution_count": null,
   "id": "c28afb4f",
   "metadata": {},
   "outputs": [],
   "source": []
  },
  {
   "cell_type": "code",
   "execution_count": null,
   "id": "3e65416d",
   "metadata": {},
   "outputs": [],
   "source": []
  },
  {
   "cell_type": "code",
   "execution_count": null,
   "id": "08972869",
   "metadata": {},
   "outputs": [],
   "source": []
  },
  {
   "cell_type": "code",
   "execution_count": null,
   "id": "a5323931",
   "metadata": {},
   "outputs": [],
   "source": []
  },
  {
   "cell_type": "code",
   "execution_count": null,
   "id": "c27caa12",
   "metadata": {},
   "outputs": [],
   "source": []
  },
  {
   "cell_type": "code",
   "execution_count": null,
   "id": "25540e77",
   "metadata": {},
   "outputs": [],
   "source": [
    "# 結果結合用\n",
    "buff = []\n",
    "# 戦略毎に処理\n",
    "for i in df_portfolios.keys():\n",
    "    # ポートフォリオを表示用に保存\n",
    "    buff.append(\n",
    "        df_portfolios[i].reset_index(drop=True).set_index(\"date\")\n",
    "    )\n",
    "# 結合して保存\n",
    "df_portfolio = pd.concat(buff, axis=1)"
   ]
  },
  {
   "cell_type": "code",
   "execution_count": null,
   "id": "76ea9e31",
   "metadata": {},
   "outputs": [],
   "source": []
  },
  {
   "cell_type": "code",
   "execution_count": null,
   "id": "25e47c50",
   "metadata": {},
   "outputs": [],
   "source": [
    "from ta import add_all_ta_features\n",
    "from ta.utils import dropna"
   ]
  },
  {
   "cell_type": "code",
   "execution_count": null,
   "id": "a8c865c2",
   "metadata": {},
   "outputs": [],
   "source": [
    "test = add_all_ta_features(\n",
    "    etf_dict[\"DIA\"], open=\"open\", high=\"high\", low=\"low\", close=\"close\", volume=\"volume\")"
   ]
  },
  {
   "cell_type": "code",
   "execution_count": null,
   "id": "3e20e938",
   "metadata": {},
   "outputs": [],
   "source": [
    "test.head()"
   ]
  },
  {
   "cell_type": "code",
   "execution_count": null,
   "id": "513f9943",
   "metadata": {},
   "outputs": [],
   "source": []
  },
  {
   "cell_type": "code",
   "execution_count": null,
   "id": "e5b241bc",
   "metadata": {},
   "outputs": [],
   "source": []
  },
  {
   "cell_type": "code",
   "execution_count": null,
   "id": "07262252",
   "metadata": {},
   "outputs": [],
   "source": []
  },
  {
   "cell_type": "code",
   "execution_count": null,
   "id": "47be670b",
   "metadata": {},
   "outputs": [],
   "source": [
    "\"\"\"\n",
    "Combinatorial Purged Cross Validation (CPCV):\n",
    "Functions:\n",
    "nCr: computes \"n choose r\"\n",
    "\n",
    "cv_purge: adds sample embargo to the training set to prevent data leak\n",
    "    - data: training data\n",
    "    - val_ind:  index of the validation set\n",
    "    - purge: integer for embargo range\n",
    "    \n",
    "CPCV: implements combinatorial cross validation, with data embargoes to prevent leaks\n",
    "    - data: full set of data (excluding target variable)\n",
    "    - Y: target variable\n",
    "    - N_PARTITIONS: number of splits for the data\n",
    "    - k_val: number of splits to be retained for validation with each model fit\n",
    "    - model: which model object to train (not implemented)\n",
    "    - model_args: parameters for the model\n",
    " **NOTE**: This function has trouble with very large datasets.   \n",
    "\n",
    "\"\"\"\n",
    "\n",
    "from itertools import combinations\n",
    "import math\n",
    "\n",
    "def nCr(n,r):\n",
    "    f = math.factorial\n",
    "    return f(n) / f(r) / f(n-r)\n",
    "\n",
    "def cv_purge(data, val_ind, purge):\n",
    "    purged = data\n",
    "    val_up = val_ind+purge\n",
    "    val_down = val_ind-purge\n",
    "    val_down = val_down[val_down > 0]\n",
    "    purged = purged.drop(index = purged.loc[purged.index.isin(val_up)].index, axis=0)\n",
    "    purged = purged.drop(index = purged.loc[purged.index.isin(val_down)].index, axis=0)\n",
    "    \n",
    "    return purged\n",
    "\n",
    "def CPCV(data, Y, N_PARTITIONS, k_val, model, model_args):\n",
    "    SIZE = int(len(data)/N_PARTITIONS)\n",
    "    combos = list(combinations(range(0,N_PARTITIONS),k_val))\n",
    "    lc = len(combos)\n",
    "    index = range(len(data))\n",
    "    preds = pd.DataFrame(index=range(len(data)),columns=range(lc))\n",
    "    \n",
    "    for i in range(lc):\n",
    "        current = combos[i]\n",
    "        train_ind = []\n",
    "        train = pd.DataFrame([])\n",
    "        val = data\n",
    "        for j in current:\n",
    "            train_ind = index[(j*SIZE):((j+1)*SIZE)]\n",
    "            train = train.append(data.iloc[train_ind])\n",
    "            val = val.drop(train_ind, axis=0)\n",
    "            \n",
    "        #purge data\n",
    "        train = cv_purge(train, val.index, 10)\n",
    "        y_train = Y[Y.index.isin(train.index)]\n",
    "        y_val = Y[np.invert(Y.index.isin(train.index))]\n",
    "        \n",
    "        #fit data\n",
    "        print(\"Fitting model #\", i)\n",
    "        lgtrain, lgval = lgb.Dataset(train, y_train.values[:,0]), lgb.Dataset(val, y_val.values[:,0])\n",
    "        lgbmodel = lgb.train(model_args, lgtrain, 10000, valid_sets=[lgtrain], early_stopping_rounds=100, verbose_eval=-1)\n",
    "\n",
    "        preds.loc[val.index,i] = lgbmodel.predict(val) #PH \n",
    "    \n",
    "    N_PATHS = int(k_val / N_PARTITIONS * nCr(N_PARTITIONS, k_val)) \n",
    "    paths = pd.DataFrame(index=range(len(data)),columns=range(N_PATHS)) \n",
    "\n",
    "    for i in range(lc):\n",
    "        for j in range(N_PARTITIONS):\n",
    "            ind = index[(j*SIZE):((j+1)*SIZE)]\n",
    "            if not preds.loc[ind,i].dropna().empty:\n",
    "                for k in range(N_PATHS):\n",
    "                    if paths.loc[ind,k].dropna().empty:\n",
    "                        paths.loc[ind,k] = preds.loc[ind,i]\n",
    "                        break\n",
    "\n",
    "    \n",
    "    return paths"
   ]
  },
  {
   "cell_type": "code",
   "execution_count": null,
   "id": "83cbd6b1",
   "metadata": {},
   "outputs": [],
   "source": [
    "cv_preds = CPCV(X, y, 6, 2, 0, params) "
   ]
  },
  {
   "cell_type": "code",
   "execution_count": null,
   "id": "83cb1ad4",
   "metadata": {},
   "outputs": [],
   "source": []
  }
 ],
 "metadata": {
  "kernelspec": {
   "display_name": "py37",
   "language": "python",
   "name": "py37"
  },
  "language_info": {
   "codemirror_mode": {
    "name": "ipython",
    "version": 3
   },
   "file_extension": ".py",
   "mimetype": "text/x-python",
   "name": "python",
   "nbconvert_exporter": "python",
   "pygments_lexer": "ipython3",
   "version": "3.7.10"
  }
 },
 "nbformat": 4,
 "nbformat_minor": 5
}
